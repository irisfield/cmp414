{
 "cells": [
  {
   "cell_type": "markdown",
   "metadata": {
    "colab_type": "text",
    "id": "view-in-github"
   },
   "source": [
    "<a href=\"https://colab.research.google.com/github/ch00226855/CMP414765Fall2022/blob/main/Week04_MultilinearRegression_Completed.ipynb\" target=\"_parent\"><img src=\"https://colab.research.google.com/assets/colab-badge.svg\" alt=\"Open In Colab\"/></a>"
   ]
  },
  {
   "cell_type": "markdown",
   "metadata": {
    "id": "VXhaotNQxr2w"
   },
   "source": [
    "# Week 4\n",
    "# Multilinear Regression\n",
    "\n",
    "Last time we looked at a simple linear regression model $sales = \\beta_0 + \\beta_1\\cdot\\textit{TV advertising budget}$. More generally, a linear model makes a prediction by computing a weighted sum of their input features (plus a constant).\n",
    "\n",
    "**Reading: Chapter 4**"
   ]
  },
  {
   "cell_type": "markdown",
   "metadata": {
    "id": "81lHyTpwx0zu"
   },
   "source": [
    "## Multilinear Regression: Model Assumptions\n",
    "**Model**:\n",
    "\n",
    "$\\hat{y} = \\theta_0 + \\theta_1x_1 + \\theta_2x_2 +\\cdots + \\theta_nx_n$\n",
    "1. $\\hat{y}$ is the predicted value.\n",
    "2. $n$ is the number of features.\n",
    "3. $x_i$ is the i-th feature value.\n",
    "4. $\\theta_i$ is the i-th model parameter (associated with $x_i$)."
   ]
  },
  {
   "cell_type": "code",
   "execution_count": 1,
   "metadata": {
    "id": "azLxHqqUx02U"
   },
   "outputs": [],
   "source": [
    "import numpy as np\n",
    "import pandas as pd\n",
    "import matplotlib.pyplot as plt\n",
    "# Set print format on floating point numbers\n",
    "np.set_printoptions(formatter={'float': lambda x: \"{0:0.5f}\".format(x)})\n",
    "%matplotlib inline"
   ]
  },
  {
   "cell_type": "code",
   "execution_count": 2,
   "metadata": {
    "colab": {
     "base_uri": "https://localhost:8080/",
     "height": 206
    },
    "id": "cb5RGmIdx04v",
    "outputId": "05ae840e-644a-4db5-935f-3d68534b13f2"
   },
   "outputs": [
    {
     "data": {
      "text/html": [
       "<div>\n",
       "<style scoped>\n",
       "    .dataframe tbody tr th:only-of-type {\n",
       "        vertical-align: middle;\n",
       "    }\n",
       "\n",
       "    .dataframe tbody tr th {\n",
       "        vertical-align: top;\n",
       "    }\n",
       "\n",
       "    .dataframe thead th {\n",
       "        text-align: right;\n",
       "    }\n",
       "</style>\n",
       "<table border=\"1\" class=\"dataframe\">\n",
       "  <thead>\n",
       "    <tr style=\"text-align: right;\">\n",
       "      <th></th>\n",
       "      <th>Homework</th>\n",
       "      <th>Midterm</th>\n",
       "      <th>Final</th>\n",
       "    </tr>\n",
       "  </thead>\n",
       "  <tbody>\n",
       "    <tr>\n",
       "      <th>Alice</th>\n",
       "      <td>95</td>\n",
       "      <td>90</td>\n",
       "      <td>93</td>\n",
       "    </tr>\n",
       "    <tr>\n",
       "      <th>Bob</th>\n",
       "      <td>70</td>\n",
       "      <td>60</td>\n",
       "      <td>66</td>\n",
       "    </tr>\n",
       "    <tr>\n",
       "      <th>Clare</th>\n",
       "      <td>80</td>\n",
       "      <td>80</td>\n",
       "      <td>85</td>\n",
       "    </tr>\n",
       "    <tr>\n",
       "      <th>David</th>\n",
       "      <td>100</td>\n",
       "      <td>80</td>\n",
       "      <td>60</td>\n",
       "    </tr>\n",
       "    <tr>\n",
       "      <th>Eve</th>\n",
       "      <td>70</td>\n",
       "      <td>85</td>\n",
       "      <td>90</td>\n",
       "    </tr>\n",
       "  </tbody>\n",
       "</table>\n",
       "</div>"
      ],
      "text/plain": [
       "       Homework  Midterm  Final\n",
       "Alice        95       90     93\n",
       "Bob          70       60     66\n",
       "Clare        80       80     85\n",
       "David       100       80     60\n",
       "Eve          70       85     90"
      ]
     },
     "execution_count": 2,
     "metadata": {},
     "output_type": "execute_result"
    }
   ],
   "source": [
    "# Toy example\n",
    "# columns = ['Homework', 'Midterm', 'Final']\n",
    "data = pd.DataFrame({\n",
    "    \"Homework\": [95, 70, 80, 100, 70],\n",
    "    \"Midterm\": [90, 60, 80, 80, 85],\n",
    "    \"Final\": [93, 66, 85, 60, 90]\n",
    "}, index=[\"Alice\", \"Bob\", \"Clare\", \"David\", \"Eve\"])\n",
    "\n",
    "data"
   ]
  },
  {
   "cell_type": "markdown",
   "metadata": {
    "id": "uKguV_HWx09V"
   },
   "source": [
    "In this case:\n",
    "- $x_1$ is the homework feature\n",
    "- $x_2$ is the midterm feature\n",
    "- $y$ is the final score\n",
    "- model is: $final = \\theta_0 + \\theta_1 * homework + \\theta_2 * midterm$\n",
    "- We need to come up with values for $\\theta_0, \\theta_1, \\theta_2$ to complete the model.\n",
    "\n",
    "**Objective**: Suppose that another student Fred has Homework score 85 and Midterm score 80. What is prediction of his final exam score?"
   ]
  },
  {
   "cell_type": "markdown",
   "metadata": {
    "id": "txFgiEHAx0_q"
   },
   "source": [
    "## Multilinear Regression: Vectorized form\n",
    "\n",
    "The multilinear model can also be written as:\n",
    "\n",
    "**$\\hat{y} = \\theta\\cdot\\textbf{x}$**.\n",
    "1. $\\theta = (\\theta_0, \\theta_1, ..., \\theta_n)$ is the paramter vector.\n",
    "2. $\\textbf{x} = (1, x_1, ..., x_n)$ is the feature vector.\n",
    "3. The symbol $\\cdot$ represents the inner-product of two vectors. For example, $(1, 2, 3)\\cdot (4, 5, 6) = 1\\times 4 + 2\\times 5 + 3\\times 6 = 32$.\n",
    "\n",
    "**Why is the expression $\\theta\\cdot\\textbf{x}$ equivalent to $\\theta_0 + \\theta_1x_1 + \\theta_2x_2 +\\cdots + \\theta_nx_n$?**"
   ]
  },
  {
   "cell_type": "code",
   "execution_count": 3,
   "metadata": {
    "colab": {
     "base_uri": "https://localhost:8080/"
    },
    "id": "B8Acxyvfx1CF",
    "outputId": "75a8f2cf-4417-45e2-a7a3-b975a24c48f9"
   },
   "outputs": [
    {
     "data": {
      "text/plain": [
       "LinearRegression()"
      ]
     },
     "execution_count": 3,
     "metadata": {},
     "output_type": "execute_result"
    }
   ],
   "source": [
    "# Let's apply the linear regression tool in sci-kit learn on the toy example\n",
    "from sklearn.linear_model import LinearRegression\n",
    "model = LinearRegression()\n",
    "model.fit(data[[\"Homework\", \"Midterm\"]], data['Final']) "
   ]
  },
  {
   "cell_type": "code",
   "execution_count": 4,
   "metadata": {
    "colab": {
     "base_uri": "https://localhost:8080/"
    },
    "id": "gDjZUNlDU3Na",
    "outputId": "94c90087-14d3-454f-bda8-558416e4ee6f"
   },
   "outputs": [
    {
     "data": {
      "text/plain": [
       "array([78.67442])"
      ]
     },
     "execution_count": 4,
     "metadata": {},
     "output_type": "execute_result"
    }
   ],
   "source": [
    "# What is the prediction of Fred's final score?\n",
    "\n",
    "# Create a dataframe with Fred's records\n",
    "fred = pd.DataFrame([[85, 80]], columns=[\"Homework\", \"Midterm\"], index=['Fred'])\n",
    "fred\n",
    "model.predict(fred)"
   ]
  },
  {
   "cell_type": "code",
   "execution_count": 5,
   "metadata": {
    "colab": {
     "base_uri": "https://localhost:8080/",
     "height": 206
    },
    "id": "YyYsA6EhWWK6",
    "outputId": "b4958391-27e4-4ff9-baa7-844ecfec0c7a"
   },
   "outputs": [
    {
     "data": {
      "text/html": [
       "<div>\n",
       "<style scoped>\n",
       "    .dataframe tbody tr th:only-of-type {\n",
       "        vertical-align: middle;\n",
       "    }\n",
       "\n",
       "    .dataframe tbody tr th {\n",
       "        vertical-align: top;\n",
       "    }\n",
       "\n",
       "    .dataframe thead th {\n",
       "        text-align: right;\n",
       "    }\n",
       "</style>\n",
       "<table border=\"1\" class=\"dataframe\">\n",
       "  <thead>\n",
       "    <tr style=\"text-align: right;\">\n",
       "      <th></th>\n",
       "      <th>Homework</th>\n",
       "      <th>Midterm</th>\n",
       "      <th>Final</th>\n",
       "      <th>Prediction</th>\n",
       "    </tr>\n",
       "  </thead>\n",
       "  <tbody>\n",
       "    <tr>\n",
       "      <th>Alice</th>\n",
       "      <td>95</td>\n",
       "      <td>90</td>\n",
       "      <td>93</td>\n",
       "      <td>84.581395</td>\n",
       "    </tr>\n",
       "    <tr>\n",
       "      <th>Bob</th>\n",
       "      <td>70</td>\n",
       "      <td>60</td>\n",
       "      <td>66</td>\n",
       "      <td>63.279070</td>\n",
       "    </tr>\n",
       "    <tr>\n",
       "      <th>Clare</th>\n",
       "      <td>80</td>\n",
       "      <td>80</td>\n",
       "      <td>85</td>\n",
       "      <td>82.255814</td>\n",
       "    </tr>\n",
       "    <tr>\n",
       "      <th>David</th>\n",
       "      <td>100</td>\n",
       "      <td>80</td>\n",
       "      <td>60</td>\n",
       "      <td>67.930233</td>\n",
       "    </tr>\n",
       "    <tr>\n",
       "      <th>Eve</th>\n",
       "      <td>70</td>\n",
       "      <td>85</td>\n",
       "      <td>90</td>\n",
       "      <td>95.953488</td>\n",
       "    </tr>\n",
       "  </tbody>\n",
       "</table>\n",
       "</div>"
      ],
      "text/plain": [
       "       Homework  Midterm  Final  Prediction\n",
       "Alice        95       90     93   84.581395\n",
       "Bob          70       60     66   63.279070\n",
       "Clare        80       80     85   82.255814\n",
       "David       100       80     60   67.930233\n",
       "Eve          70       85     90   95.953488"
      ]
     },
     "execution_count": 5,
     "metadata": {},
     "output_type": "execute_result"
    }
   ],
   "source": [
    "# Model's prediction is 78. This looks safe. But how much variation the prediction has?\n",
    "# We can use model's error on the training data seems pretty good,\n",
    "# but how well does it do on new data?\n",
    "\n",
    "data['Prediction'] = model.predict(data[['Homework', 'Midterm']])\n",
    "data"
   ]
  },
  {
   "cell_type": "code",
   "execution_count": 6,
   "metadata": {
    "colab": {
     "base_uri": "https://localhost:8080/"
    },
    "id": "MoD9GMG1x1Em",
    "outputId": "9096d1c2-2d95-4f21-8d8e-9bb791890a42"
   },
   "outputs": [
    {
     "name": "stdout",
     "output_type": "stream",
     "text": [
      "theta1, theta2: [-0.71628 1.30698]\n",
      "theta0: 35.00000000000003\n"
     ]
    }
   ],
   "source": [
    "# Retrieve the estimated parameter values.\n",
    "print(\"theta1, theta2:\", model.coef_)\n",
    "print(\"theta0:\", model.intercept_)"
   ]
  },
  {
   "cell_type": "markdown",
   "metadata": {
    "id": "XAYjx93CYPeN"
   },
   "source": [
    "Now, let's create a linear model that describes the relationship between `sales` and all three ways of advertising."
   ]
  },
  {
   "cell_type": "code",
   "execution_count": 7,
   "metadata": {
    "colab": {
     "base_uri": "https://localhost:8080/",
     "height": 206
    },
    "id": "yaLpN0AeYeMS",
    "outputId": "137bcba1-5995-47b7-8c36-d0aeb2f47e40"
   },
   "outputs": [
    {
     "data": {
      "text/html": [
       "<div>\n",
       "<style scoped>\n",
       "    .dataframe tbody tr th:only-of-type {\n",
       "        vertical-align: middle;\n",
       "    }\n",
       "\n",
       "    .dataframe tbody tr th {\n",
       "        vertical-align: top;\n",
       "    }\n",
       "\n",
       "    .dataframe thead th {\n",
       "        text-align: right;\n",
       "    }\n",
       "</style>\n",
       "<table border=\"1\" class=\"dataframe\">\n",
       "  <thead>\n",
       "    <tr style=\"text-align: right;\">\n",
       "      <th></th>\n",
       "      <th>TV</th>\n",
       "      <th>radio</th>\n",
       "      <th>newspaper</th>\n",
       "      <th>sales</th>\n",
       "    </tr>\n",
       "  </thead>\n",
       "  <tbody>\n",
       "    <tr>\n",
       "      <th>1</th>\n",
       "      <td>230.1</td>\n",
       "      <td>37.8</td>\n",
       "      <td>69.2</td>\n",
       "      <td>22.1</td>\n",
       "    </tr>\n",
       "    <tr>\n",
       "      <th>2</th>\n",
       "      <td>44.5</td>\n",
       "      <td>39.3</td>\n",
       "      <td>45.1</td>\n",
       "      <td>10.4</td>\n",
       "    </tr>\n",
       "    <tr>\n",
       "      <th>3</th>\n",
       "      <td>17.2</td>\n",
       "      <td>45.9</td>\n",
       "      <td>69.3</td>\n",
       "      <td>9.3</td>\n",
       "    </tr>\n",
       "    <tr>\n",
       "      <th>4</th>\n",
       "      <td>151.5</td>\n",
       "      <td>41.3</td>\n",
       "      <td>58.5</td>\n",
       "      <td>18.5</td>\n",
       "    </tr>\n",
       "    <tr>\n",
       "      <th>5</th>\n",
       "      <td>180.8</td>\n",
       "      <td>10.8</td>\n",
       "      <td>58.4</td>\n",
       "      <td>12.9</td>\n",
       "    </tr>\n",
       "  </tbody>\n",
       "</table>\n",
       "</div>"
      ],
      "text/plain": [
       "      TV  radio  newspaper  sales\n",
       "1  230.1   37.8       69.2   22.1\n",
       "2   44.5   39.3       45.1   10.4\n",
       "3   17.2   45.9       69.3    9.3\n",
       "4  151.5   41.3       58.5   18.5\n",
       "5  180.8   10.8       58.4   12.9"
      ]
     },
     "execution_count": 7,
     "metadata": {},
     "output_type": "execute_result"
    }
   ],
   "source": [
    "url = \"https://www.statlearning.com/s/Advertising.csv\"\n",
    "advertising = pd.read_csv(url, index_col=0)\n",
    "advertising.head()"
   ]
  },
  {
   "cell_type": "markdown",
   "metadata": {
    "id": "DLp0zCnOY9wn"
   },
   "source": [
    "Proposed model: $sales = \\theta_0 + \\theta_1\\cdot TV + \\theta_2\\cdot radio + \\theta_3\\cdot newspaper$."
   ]
  },
  {
   "cell_type": "markdown",
   "metadata": {
    "id": "YeQewBGYisak"
   },
   "source": [
    "In order to effectively evalution the model's performance on new data, we need to split the data set into a **training set** and a **test set**. The model will be training with the training set only, and therefore the test set can be considered as new data to the model."
   ]
  },
  {
   "cell_type": "code",
   "execution_count": 8,
   "metadata": {
    "colab": {
     "base_uri": "https://localhost:8080/"
    },
    "id": "l0u0JR6wZrwS",
    "outputId": "96cddc69-d4d2-468f-9812-19972b027ccc"
   },
   "outputs": [
    {
     "name": "stdout",
     "output_type": "stream",
     "text": [
      "(180, 4)\n",
      "(20, 4)\n"
     ]
    }
   ],
   "source": [
    "from sklearn.model_selection import train_test_split\n",
    "training_set, test_set = train_test_split(advertising, test_size=0.1) # a good test size is 10% - 30%\n",
    "print(training_set.shape)\n",
    "print(test_set.shape)"
   ]
  },
  {
   "cell_type": "code",
   "execution_count": 9,
   "metadata": {
    "id": "N64-Qfn8xWyp"
   },
   "outputs": [],
   "source": [
    "# train_test_split can split more than one data set\n",
    "input = advertising[['TV', 'radio', 'newspaper']]\n",
    "# input.head()\n",
    "output = advertising[['sales']]\n",
    "# output.head()\n",
    "input_train, input_test, output_train, output_test = train_test_split(input, output, test_size=0.2)"
   ]
  },
  {
   "cell_type": "code",
   "execution_count": 10,
   "metadata": {
    "colab": {
     "base_uri": "https://localhost:8080/"
    },
    "id": "LQjZLVzNYg4Q",
    "outputId": "f180e67f-f5d0-4b5b-bb0f-13d350601ddd"
   },
   "outputs": [
    {
     "data": {
      "text/plain": [
       "LinearRegression()"
      ]
     },
     "execution_count": 10,
     "metadata": {},
     "output_type": "execute_result"
    }
   ],
   "source": [
    "# Ex: Build a linear regression model named \"model2\" on the training set.\n",
    "from sklearn.linear_model import LinearRegression\n",
    "model2 = LinearRegression()\n",
    "model2.fit(training_set[['TV', 'radio', 'newspaper']], training_set['sales'])"
   ]
  },
  {
   "cell_type": "code",
   "execution_count": 11,
   "metadata": {
    "colab": {
     "base_uri": "https://localhost:8080/"
    },
    "id": "fhAe5dXQaNtT",
    "outputId": "8e244249-3cc3-4ea8-e8f6-f0ae5a168023"
   },
   "outputs": [
    {
     "name": "stdout",
     "output_type": "stream",
     "text": [
      "2.8768864012803057 0.04600403147445695 0.19133675892693483 -0.002305170946470897\n",
      "Mean squared error: 2.0230535671876586\n"
     ]
    }
   ],
   "source": [
    "# Ex: Calculate the MSE of model2 on the test set\n",
    "from sklearn.metrics import mean_squared_error\n",
    "# Find the coefficients of the model\n",
    "theta1, theta2, theta3 = model2.coef_\n",
    "theta0 = model2.intercept_\n",
    "print(theta0, theta1, theta2, theta3)\n",
    "\n",
    "# Find the model's prediction on each test record\n",
    "test_set['Prediction'] = theta1 * test_set['TV'] + theta2 * test_set['radio'] \\\n",
    "            + theta3 * test_set['newspaper'] + theta0\n",
    "\n",
    "test_set.head()\n",
    "\n",
    "# Calculate the MSE\n",
    "MSE = mean_squared_error(test_set['sales'], test_set['Prediction'])\n",
    "print(\"Mean squared error:\", MSE)\n",
    "\n",
    "# Compare this MSE with the MSE from last time."
   ]
  },
  {
   "cell_type": "code",
   "execution_count": 12,
   "metadata": {
    "colab": {
     "base_uri": "https://localhost:8080/"
    },
    "id": "q2h2FrEs2eK0",
    "outputId": "2f4da91c-d9d3-475e-c10a-1b8eb18981da"
   },
   "outputs": [
    {
     "name": "stdout",
     "output_type": "stream",
     "text": [
      "Mean squared error: 2.0230535671876586\n"
     ]
    }
   ],
   "source": [
    "# Alternatively, we can use the model's predict() method to obtain the predictions\n",
    "from sklearn.metrics import mean_squared_error\n",
    "test_set['Prediction'] = model2.predict(test_set[['TV', 'radio', 'newspaper']])\n",
    "# test_set.head()\n",
    "\n",
    "MSE = mean_squared_error(test_set['sales'], test_set['Prediction'])\n",
    "print(\"Mean squared error:\", MSE)"
   ]
  },
  {
   "cell_type": "markdown",
   "metadata": {
    "id": "JwJG44-7x1HE"
   },
   "source": [
    "## Multilinear Regression: Cost Function\n",
    "In order to calculate the best value for each parameter, we need a **cost function** that evaluates the errors made by a give set of parameter values. Here we use the **mean squared error (MSE)** function as the cost function:\n",
    "\n",
    "$J(\\textbf{X}, \\theta) = \\frac{1}{m}\\sum_{i=1}^{m}\\big(\\theta\\cdot\\textbf{x}^{(i)} - y^{(i)}\\big)^2$\n",
    "\n",
    "Here $(\\textbf{x}^{(i)}, y^{(i)})$ represents the i-th training example"
   ]
  },
  {
   "cell_type": "code",
   "execution_count": 13,
   "metadata": {
    "colab": {
     "base_uri": "https://localhost:8080/"
    },
    "id": "Uh-Zy_vEx1JZ",
    "outputId": "73c8e756-10be-4094-94bb-9766d5771a0b"
   },
   "outputs": [
    {
     "name": "stdout",
     "output_type": "stream",
     "text": [
      "36.82790697674421\n"
     ]
    }
   ],
   "source": [
    "# Ex: Calculate the MSE cost of the toy example for the parameter values given by sci-kit learn.\n",
    "\n",
    "# theta1, theta2 = model.coef_\n",
    "# theta0 = model.intercept_\n",
    "# print(theta0, theta1, theta2)\n",
    "\n",
    "predictions = model.predict(data[['Homework', 'Midterm']])\n",
    "# print(predictions)\n",
    "MSE = mean_squared_error(data['Final'], predictions)\n",
    "print(MSE)"
   ]
  },
  {
   "cell_type": "markdown",
   "metadata": {
    "id": "ZG2rW2SNx1Lw"
   },
   "source": [
    "## Multilinear Regression: Training Algorithm 1\n",
    "The value of $\\theta$ that minimizes the cost function is given by the following **normal equation**:\n",
    "\n",
    "$\\hat{\\theta} = \\big(\\textbf{X}^T\\cdot\\textbf{X}\\big)^{-1}\\cdot\\textbf{X}^T\\cdot\\textbf{y}$.\n",
    "\n",
    "1. $\\textbf{X}$ is an $m\\times (n+1)$ matrix whose i-th row is $\\textbf{x}^{(i)}$.\n",
    "$$\\textbf{X} = \\begin{pmatrix}\n",
    "1 & x^{(1)}_1 & x^{(1)}_2 & \\cdots & x^{(1)}_n \\\\\n",
    "1 & x^{(2)}_1 & x^{(2)}_2 & \\cdots & x^{(2)}_n \\\\\n",
    "\\vdots & \\vdots &\\vdots & \\ddots & \\vdots \\\\\n",
    "1 & x^{(m)}_1 & x^{(m)}_2 & \\cdots & x^{(m)}_n \\\\\n",
    "\\end{pmatrix}$$\n",
    "2. $$\\textbf{y} = \\begin{pmatrix}y^{(1)} \\\\ \\vdots \\\\ y^{(m)}\\end{pmatrix}$$.\n",
    "3. The cost function $J(\\theta)$ also has a matrix expression\n",
    "$$J(\\theta) = \\frac{1}{m}(\\textbf{X}\\cdot\\theta - \\textbf{y})^T\\cdot (\\textbf{X}\\cdot\\theta - \\textbf{y})$$"
   ]
  },
  {
   "cell_type": "code",
   "execution_count": 14,
   "metadata": {
    "colab": {
     "base_uri": "https://localhost:8080/"
    },
    "id": "M0r86Sigx1OO",
    "outputId": "f4f2244f-f8a2-415a-d3b4-5b3b2e8ce52b"
   },
   "outputs": [
    {
     "name": "stdout",
     "output_type": "stream",
     "text": [
      "(180, 4)\n"
     ]
    }
   ],
   "source": [
    "# Ex: Construct matrix X using DataFrame.values, np.hstack(), np.ones()\n",
    "# training_set.head()\n",
    "X1 = np.ones([len(training_set), 1])\n",
    "# print(X1)\n",
    "X2 = training_set[['TV', 'radio', 'newspaper']].values\n",
    "# print(X2)\n",
    "X = np.hstack([X1, X2])\n",
    "print(X.shape)"
   ]
  },
  {
   "cell_type": "code",
   "execution_count": 15,
   "metadata": {
    "colab": {
     "base_uri": "https://localhost:8080/"
    },
    "id": "bIZZCIicx1Q7",
    "outputId": "71d83002-c0c5-4379-9c08-9c18fc6470f1"
   },
   "outputs": [
    {
     "name": "stdout",
     "output_type": "stream",
     "text": [
      "(180, 1)\n"
     ]
    }
   ],
   "source": [
    "# Ex: Construct vector y\n",
    "y = training_set[['sales']].values\n",
    "print(y.shape)"
   ]
  },
  {
   "cell_type": "code",
   "execution_count": 16,
   "metadata": {
    "colab": {
     "base_uri": "https://localhost:8080/"
    },
    "id": "197CDh19x1Th",
    "outputId": "bcc3379f-efc3-4262-9302-5e1862b7581b"
   },
   "outputs": [
    {
     "name": "stdout",
     "output_type": "stream",
     "text": [
      "[[2.87689]\n",
      " [0.04600]\n",
      " [0.19134]\n",
      " [-0.00231]]\n"
     ]
    }
   ],
   "source": [
    "# Apply the normal equation to find theta\n",
    "theta = np.linalg.inv(X.T.dot(X)).dot(X.T).dot(y)\n",
    "print(theta)"
   ]
  },
  {
   "cell_type": "code",
   "execution_count": 17,
   "metadata": {
    "colab": {
     "base_uri": "https://localhost:8080/"
    },
    "id": "SnpLfMkulFm5",
    "outputId": "6ac75453-45e1-45e3-83dc-95e55156d9f6"
   },
   "outputs": [
    {
     "name": "stdout",
     "output_type": "stream",
     "text": [
      "[0.04600 0.19134 -0.00231]\n",
      "2.8768864012803057\n"
     ]
    }
   ],
   "source": [
    "# The results should be the same as the sklearn model\n",
    "print(model2.coef_)\n",
    "print(model2.intercept_)"
   ]
  },
  {
   "cell_type": "markdown",
   "metadata": {
    "id": "_ezXjZlvx1WG"
   },
   "source": [
    "## Multilinear Regression: Training Algorithm 2\n",
    "The normal equation is not applicable when $\\textbf{X}^T\\cdot\\textbf{X}$ is not invertible. It happens if:\n",
    "- Several features are linearly dependent (for example, feature3 = feature1 + feature2)\n",
    "- The number of features is greater than the number of training data (for example, DNA data)\n",
    "\n",
    "When the matrix $\\textbf{X}$ is too large, the normal equation may take too long to finish since it requires a matrix multiplication.\n",
    "\n",
    "In these cases, we can use the **gradient descent** method to minimize the cost function instead.\n",
    "\n",
    "Gradient descent with one variable ideally looks like this:\n",
    "<img src=\"https://cdn-images-1.medium.com/max/1600/0*fU8XFt-NCMZGAWND.\" width=\"600\">\n",
    "\n",
    "Gradient descent with two variables ideally looks like this:\n",
    "<img src=\"https://blog.paperspace.com/content/images/2019/09/F1-02.large.jpg\" width=\"600\">\n",
    "\n",
    "Gradient descent is an iterative algorithm for finding the **local minimum** of a differentiable function.\n",
    "- Choose an initial value of $\\hat{\\theta}$ and a **learning rate** $r$.\n",
    "- For each iteration $k$, do:\n",
    "  - Calculate the partial derivative of the cost function:\n",
    "$$\n",
    "\\frac{\\partial J(\\hat{\\theta})}{\\partial \\theta} = \\frac{2}{m}\\cdot\\textbf{X}^T\\cdot(\\textbf{X}\\cdot\\theta - \\textbf{y}).\n",
    "$$\n",
    "  - Update the parameter vector:\n",
    "  $$\\hat{\\theta} \\leftarrow \\hat{\\theta} - r\\cdot\\frac{\\partial J(\\hat{\\theta})}{\\partial \\theta}.$$\n",
    "\n",
    "- **Verify the formula of partial derivative assuming there is one input feature.**\n",
    "\n",
    "- End iteration if certain stop criteria is reached, such as:\n",
    "    - Value of $\\hat{\\theta}$ becomes stable.\n",
    "    - Certain iteration amount is reached."
   ]
  },
  {
   "cell_type": "code",
   "execution_count": 18,
   "metadata": {
    "id": "clRpPwu-x1Yp"
   },
   "outputs": [],
   "source": [
    "# Choose an initial value for each parameter.\n",
    "theta = np.array([[3.00],\n",
    "                  [0.05],\n",
    "                  [0.20],\n",
    "                  [0.00]])"
   ]
  },
  {
   "cell_type": "code",
   "execution_count": 19,
   "metadata": {
    "id": "fVKaYafgkrCa"
   },
   "outputs": [],
   "source": [
    "# Construct matrix X and y\n",
    "N = training_set.shape[0]\n",
    "\n",
    "col1 = np.ones([N, 1])\n",
    "col234 = training_set[['TV', 'radio', 'newspaper']].values\n",
    "X = np.hstack([col1, col234])\n",
    "\n",
    "y = training_set[['sales']].values"
   ]
  },
  {
   "cell_type": "code",
   "execution_count": 27,
   "metadata": {
    "colab": {
     "base_uri": "https://localhost:8080/"
    },
    "id": "irpo2zsSsO-W",
    "outputId": "33a5858c-d577-42be-cbbd-93aa921e9618"
   },
   "outputs": [
    {
     "name": "stdout",
     "output_type": "stream",
     "text": [
      "Initial cost: [[2.87321]]\n"
     ]
    }
   ],
   "source": [
    "def MSE_cost(theta, X, y):\n",
    "    m = X.shape[0]\n",
    "    M = X.dot(theta) - y\n",
    "    return 1/m * M.T.dot(M)\n",
    "\n",
    "print(\"Initial cost:\", MSE_cost(theta, X, y))"
   ]
  },
  {
   "cell_type": "code",
   "execution_count": 28,
   "metadata": {
    "colab": {
     "base_uri": "https://localhost:8080/"
    },
    "id": "-yP5gFqHx1bM",
    "outputId": "5aa06437-b179-4a5b-c088-b853db542bd9"
   },
   "outputs": [
    {
     "name": "stdout",
     "output_type": "stream",
     "text": [
      "Gradient: \n",
      " [[0.03527]\n",
      " [-0.00015]\n",
      " [0.00099]\n",
      " [-0.00096]]\n",
      "Theta: \n",
      " [[2.99915]\n",
      " [0.04567]\n",
      " [0.19001]\n",
      " [-0.00304]]\n"
     ]
    },
    {
     "data": {
      "text/plain": [
       "array([[2.87321]])"
      ]
     },
     "execution_count": 28,
     "metadata": {},
     "output_type": "execute_result"
    }
   ],
   "source": [
    "# Perform gradient descent once.\n",
    "# Choose a learning rate r\n",
    "r = 1e-5 # r = 0.00001\n",
    "\n",
    "# 1. Calculate the gradient\n",
    "m = len(training_set)\n",
    "gradient = 2/m * X.T.dot(X.dot(theta) - y)\n",
    "print(\"Gradient: \\n\", gradient)\n",
    "\n",
    "# 2. Update the parameters\n",
    "theta = theta - r * gradient\n",
    "print(\"Theta: \\n\", theta)\n",
    "\n",
    "\n",
    "# 3. (optional) Show the MSE cost with new parameter values\n",
    "MSE_cost(theta, X, y)"
   ]
  },
  {
   "cell_type": "code",
   "execution_count": 22,
   "metadata": {
    "colab": {
     "base_uri": "https://localhost:8080/"
    },
    "id": "NPqDCTznx1dq",
    "outputId": "0aa96d56-b9e7-4124-9d7f-2de4154640bd"
   },
   "outputs": [
    {
     "name": "stdout",
     "output_type": "stream",
     "text": [
      "Iteration: 0\n",
      "Gradient:\n",
      " [[1.99522]\n",
      " [359.41169]\n",
      " [52.26402]\n",
      " [66.26656]]\n",
      "New theta:\n",
      " [[2.99998]\n",
      " [0.04641]\n",
      " [0.19948]\n",
      " [-0.00066]]\n",
      "New cost: [[3.07382]]\n",
      "Iteration: 100\n",
      "Gradient:\n",
      " [[0.06717]\n",
      " [-0.45790]\n",
      " [2.54879]\n",
      " [0.86331]]\n",
      "New theta:\n",
      " [[2.99987]\n",
      " [0.04526]\n",
      " [0.19490]\n",
      " [-0.00435]]\n",
      "New cost: [[2.87897]]\n",
      "Iteration: 200\n",
      "Gradient:\n",
      " [[0.04763]\n",
      " [-0.11789]\n",
      " [1.29377]\n",
      " [-0.26988]]\n",
      "New theta:\n",
      " [[2.99981]\n",
      " [0.04551]\n",
      " [0.19309]\n",
      " [-0.00446]]\n",
      "New cost: [[2.87543]]\n",
      "Iteration: 300\n",
      "Gradient:\n",
      " [[0.04197]\n",
      " [-0.04310]\n",
      " [0.80244]\n",
      " [-0.35327]]\n",
      "New theta:\n",
      " [[2.99977]\n",
      " [0.04558]\n",
      " [0.19208]\n",
      " [-0.00412]]\n",
      "New cost: [[2.87425]]\n",
      "Iteration: 400\n",
      "Gradient:\n",
      " [[0.03957]\n",
      " [-0.02237]\n",
      " [0.53591]\n",
      " [-0.27595]]\n",
      "New theta:\n",
      " [[2.99973]\n",
      " [0.04561]\n",
      " [0.19142]\n",
      " [-0.00381]]\n",
      "New cost: [[2.87371]]\n",
      "Iteration: 500\n",
      "Gradient:\n",
      " [[0.03820]\n",
      " [-0.01403]\n",
      " [0.36608]\n",
      " [-0.19658]]\n",
      "New theta:\n",
      " [[2.99969]\n",
      " [0.04563]\n",
      " [0.19098]\n",
      " [-0.00357]]\n",
      "New cost: [[2.87346]]\n",
      "Iteration: 600\n",
      "Gradient:\n",
      " [[0.03731]\n",
      " [-0.00943]\n",
      " [0.25167]\n",
      " [-0.13682]]\n",
      "New theta:\n",
      " [[2.99965]\n",
      " [0.04564]\n",
      " [0.19067]\n",
      " [-0.00341]]\n",
      "New cost: [[2.87333]]\n",
      "Iteration: 700\n",
      "Gradient:\n",
      " [[0.03671]\n",
      " [-0.00648]\n",
      " [0.17329]\n",
      " [-0.09465]]\n",
      "New theta:\n",
      " [[2.99962]\n",
      " [0.04565]\n",
      " [0.19046]\n",
      " [-0.00329]]\n",
      "New cost: [[2.87328]]\n",
      "Iteration: 800\n",
      "Gradient:\n",
      " [[0.03629]\n",
      " [-0.00449]\n",
      " [0.11935]\n",
      " [-0.06537]]\n",
      "New theta:\n",
      " [[2.99958]\n",
      " [0.04565]\n",
      " [0.19032]\n",
      " [-0.00321]]\n",
      "New cost: [[2.87325]]\n",
      "Iteration: 900\n",
      "Gradient:\n",
      " [[0.03600]\n",
      " [-0.00312]\n",
      " [0.08217]\n",
      " [-0.04515]]\n",
      "New theta:\n",
      " [[2.99954]\n",
      " [0.04566]\n",
      " [0.19022]\n",
      " [-0.00316]]\n",
      "New cost: [[2.87323]]\n",
      "Iteration: 1000\n",
      "Gradient:\n",
      " [[0.03579]\n",
      " [-0.00218]\n",
      " [0.05654]\n",
      " [-0.03120]]\n",
      "New theta:\n",
      " [[2.99951]\n",
      " [0.04566]\n",
      " [0.19015]\n",
      " [-0.00312]]\n",
      "New cost: [[2.87323]]\n",
      "Iteration: 1100\n",
      "Gradient:\n",
      " [[0.03565]\n",
      " [-0.00154]\n",
      " [0.03887]\n",
      " [-0.02158]]\n",
      "New theta:\n",
      " [[2.99947]\n",
      " [0.04566]\n",
      " [0.19010]\n",
      " [-0.00309]]\n",
      "New cost: [[2.87322]]\n",
      "Iteration: 1200\n",
      "Gradient:\n",
      " [[0.03555]\n",
      " [-0.00109]\n",
      " [0.02668]\n",
      " [-0.01495]]\n",
      "New theta:\n",
      " [[2.99944]\n",
      " [0.04566]\n",
      " [0.19007]\n",
      " [-0.00308]]\n",
      "New cost: [[2.87322]]\n",
      "Iteration: 1300\n",
      "Gradient:\n",
      " [[0.03547]\n",
      " [-0.00078]\n",
      " [0.01828]\n",
      " [-0.01037]]\n",
      "New theta:\n",
      " [[2.99940]\n",
      " [0.04566]\n",
      " [0.19005]\n",
      " [-0.00306]]\n",
      "New cost: [[2.87322]]\n",
      "Iteration: 1400\n",
      "Gradient:\n",
      " [[0.03542]\n",
      " [-0.00057]\n",
      " [0.01249]\n",
      " [-0.00722]]\n",
      "New theta:\n",
      " [[2.99937]\n",
      " [0.04566]\n",
      " [0.19003]\n",
      " [-0.00306]]\n",
      "New cost: [[2.87322]]\n",
      "Iteration: 1500\n",
      "Gradient:\n",
      " [[0.03538]\n",
      " [-0.00042]\n",
      " [0.00849]\n",
      " [-0.00504]]\n",
      "New theta:\n",
      " [[2.99933]\n",
      " [0.04566]\n",
      " [0.19002]\n",
      " [-0.00305]]\n",
      "New cost: [[2.87321]]\n",
      "Iteration: 1600\n",
      "Gradient:\n",
      " [[0.03535]\n",
      " [-0.00032]\n",
      " [0.00573]\n",
      " [-0.00354]]\n",
      "New theta:\n",
      " [[2.99929]\n",
      " [0.04567]\n",
      " [0.19002]\n",
      " [-0.00305]]\n",
      "New cost: [[2.87321]]\n",
      "Iteration: 1700\n",
      "Gradient:\n",
      " [[0.03532]\n",
      " [-0.00025]\n",
      " [0.00383]\n",
      " [-0.00251]]\n",
      "New theta:\n",
      " [[2.99926]\n",
      " [0.04567]\n",
      " [0.19001]\n",
      " [-0.00304]]\n",
      "New cost: [[2.87321]]\n",
      "Iteration: 1800\n",
      "Gradient:\n",
      " [[0.03530]\n",
      " [-0.00020]\n",
      " [0.00252]\n",
      " [-0.00179]]\n",
      "New theta:\n",
      " [[2.99922]\n",
      " [0.04567]\n",
      " [0.19001]\n",
      " [-0.00304]]\n",
      "New cost: [[2.87321]]\n",
      "Iteration: 1900\n",
      "Gradient:\n",
      " [[0.03529]\n",
      " [-0.00017]\n",
      " [0.00162]\n",
      " [-0.00130]]\n",
      "New theta:\n",
      " [[2.99919]\n",
      " [0.04567]\n",
      " [0.19001]\n",
      " [-0.00304]]\n",
      "New cost: [[2.87321]]\n"
     ]
    }
   ],
   "source": [
    "# Perform gradient descent multiple times\n",
    "r = 1e-5\n",
    "\n",
    "theta = np.array([[3.00],\n",
    "                  [0.05],\n",
    "                  [0.20],\n",
    "                  [0.00]])\n",
    "\n",
    "# theta = np.array([[6.00],\n",
    "#                   [-0.10],\n",
    "#                   [-0.40],\n",
    "#                   [0.00]])\n",
    "\n",
    "MSEs = [] # store the intermediate MSEs\n",
    "num_iterations = 2000\n",
    "\n",
    "for i in range(num_iterations):\n",
    "\n",
    "    gradient = (2/m) * X.T.dot(X.dot(theta) - y)\n",
    "    theta = theta - r * gradient\n",
    "\n",
    "    if i % 100 == 0:\n",
    "        print(\"Iteration:\", i)\n",
    "        print(\"Gradient:\\n\", gradient)\n",
    "        print(\"New theta:\\n\", theta)\n",
    "        MSE = MSE_cost(theta, X, y)\n",
    "        print(\"New cost:\", MSE)\n",
    "        MSEs.append(MSE[0][0])\n"
   ]
  },
  {
   "cell_type": "code",
   "execution_count": 23,
   "metadata": {
    "colab": {
     "base_uri": "https://localhost:8080/",
     "height": 282
    },
    "id": "0sfCU6C33reK",
    "outputId": "9a9471e6-129d-4142-d78b-428d3c6462b1"
   },
   "outputs": [
    {
     "data": {
      "text/plain": [
       "[<matplotlib.lines.Line2D at 0x7f48a3304220>]"
      ]
     },
     "execution_count": 23,
     "metadata": {},
     "output_type": "execute_result"
    },
    {
     "data": {
      "image/png": "[encoded data removed]",
      "text/plain": [
       "<Figure size 640x480 with 1 Axes>"
      ]
     },
     "metadata": {},
     "output_type": "display_data"
    }
   ],
   "source": [
    "# Plot the learning curve.\n",
    "\n",
    "plt.plot(range(len(MSEs)-2), MSEs[2:], 'b.--')"
   ]
  },
  {
   "cell_type": "markdown",
   "metadata": {
    "id": "eXOFqVwlx1gQ"
   },
   "source": [
    "**Discussion**\n",
    "1. Change $r$ to 0.000001 and 0.01. Observe the MSE curve.\n",
    "2. Do the initial parameter values matter?\n",
    "3. How to determine when to stop the iteration?"
   ]
  },
  {
   "cell_type": "code",
   "execution_count": 24,
   "metadata": {
    "colab": {
     "base_uri": "https://localhost:8080/"
    },
    "id": "gEnnJd4Qx1ii",
    "outputId": "d2111601-8f79-49c3-ee8e-71a1975afadf"
   },
   "outputs": [
    {
     "name": "stdout",
     "output_type": "stream",
     "text": [
      "[2.87689 0.04600 0.19134 -0.00231]\n",
      "2.8710513996748257\n"
     ]
    }
   ],
   "source": [
    "# As a comparison, let's calculate the MSE on the training set with optimal parameter values\n",
    "best_theta = np.hstack([model2.intercept_, model2.coef_, ])\n",
    "print(best_theta)\n",
    "\n",
    "predictions = model2.predict(training_set[['TV', 'radio', 'newspaper']])\n",
    "best_MSE = mean_squared_error(training_set['sales'], predictions)\n",
    "print(best_MSE)"
   ]
  },
  {
   "cell_type": "code",
   "execution_count": null,
   "metadata": {
    "id": "dVWfuoUHx1lB"
   },
   "outputs": [],
   "source": []
  },
  {
   "cell_type": "code",
   "execution_count": null,
   "metadata": {
    "id": "SVfSS1dgx1np"
   },
   "outputs": [],
   "source": []
  }
 ],
 "metadata": {
  "colab": {
   "collapsed_sections": [],
   "include_colab_link": true,
   "provenance": []
  },
  "kernelspec": {
   "display_name": "Python 3 (ipykernel)",
   "language": "python",
   "name": "python3"
  },
  "language_info": {
   "codemirror_mode": {
    "name": "ipython",
    "version": 3
   },
   "file_extension": ".py",
   "mimetype": "text/x-python",
   "name": "python",
   "nbconvert_exporter": "python",
   "pygments_lexer": "ipython3",
   "version": "3.10.7"
  }
 },
 "nbformat": 4,
 "nbformat_minor": 1
}
