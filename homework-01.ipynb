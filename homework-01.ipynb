{
 "cells": [
  {
   "cell_type": "markdown",
   "metadata": {
    "colab_type": "text",
    "id": "view-in-github"
   },
   "source": [
    "<a href=\"https://colab.research.google.com/github/ch00226855/CMP414765Fall2022/blob/main/Homework01.ipynb\" target=\"_parent\"><img src=\"https://colab.research.google.com/assets/colab-badge.svg\" alt=\"Open In Colab\"/></a>"
   ]
  },
  {
   "cell_type": "markdown",
   "metadata": {
    "id": "_3073i6ys9N0"
   },
   "source": [
    "# Homework: Python Basics\n",
    "\n",
    "A data set of sale prices is given as a Python list:"
   ]
  },
  {
   "cell_type": "code",
   "execution_count": 1,
   "metadata": {
    "id": "I_IqNxXwTwOb"
   },
   "outputs": [],
   "source": [
    "prices = [299.0, 399.0, 1709.0, 349.0, 549.0, 239.0, 399.0, 399.9, 299.0, 898.5, 449.0]"
   ]
  },
  {
   "cell_type": "markdown",
   "metadata": {},
   "source": [
    "Convert the list to a pandas Series to double check the answers."
   ]
  },
  {
   "cell_type": "code",
   "execution_count": 2,
   "metadata": {},
   "outputs": [],
   "source": [
    "import pandas\n",
    "series = pandas.Series(prices)"
   ]
  },
  {
   "cell_type": "markdown",
   "metadata": {
    "id": "I-jWNO1ytBkH"
   },
   "source": [
    "Ex. 1. Calculate the average price"
   ]
  },
  {
   "cell_type": "code",
   "execution_count": 3,
   "metadata": {},
   "outputs": [
    {
     "data": {
      "text/plain": [
       "544.4909090909091"
      ]
     },
     "execution_count": 3,
     "metadata": {},
     "output_type": "execute_result"
    }
   ],
   "source": [
    "average = lambda xlist : sum(xlist) / len(xlist)\n",
    "average(prices)"
   ]
  },
  {
   "cell_type": "code",
   "execution_count": 4,
   "metadata": {},
   "outputs": [
    {
     "data": {
      "text/plain": [
       "544.4909090909091"
      ]
     },
     "execution_count": 4,
     "metadata": {},
     "output_type": "execute_result"
    }
   ],
   "source": [
    "# double check answer\n",
    "series.mean()"
   ]
  },
  {
   "cell_type": "markdown",
   "metadata": {
    "id": "i4LMmwXfVh0m"
   },
   "source": [
    "Ex. 2. The **median value** of a data set is the \"middle\" value. It is calculated as follows:\n",
    "- Sort the data set. (You can use the [sort](https://www.w3schools.com/python/ref_list_sort.asp) method to sort a Python list.)\n",
    "- If the size of the data set is odd, the median value is the value at index `size//2`.\n",
    "- If the size of the data set is even, the median value is the average of the value at index `size//2 - 1` and `size//2`.\n",
    "\n",
    "**Calculate the median price.**"
   ]
  },
  {
   "cell_type": "code",
   "execution_count": 5,
   "metadata": {},
   "outputs": [],
   "source": [
    "def median(xlist):\n",
    "    slist = sorted(xlist)\n",
    "    mid = len(slist) // 2\n",
    "    return slist[mid] if (len(slist) % 2 == 0) else (slist[mid - 1] + slist[mid]) / 2"
   ]
  },
  {
   "cell_type": "code",
   "execution_count": 6,
   "metadata": {},
   "outputs": [
    {
     "data": {
      "text/plain": [
       "399.0"
      ]
     },
     "execution_count": 6,
     "metadata": {},
     "output_type": "execute_result"
    }
   ],
   "source": [
    "median(prices)"
   ]
  },
  {
   "cell_type": "code",
   "execution_count": 7,
   "metadata": {
    "id": "0zoNOl8hVhTs"
   },
   "outputs": [
    {
     "data": {
      "text/plain": [
       "399.0"
      ]
     },
     "execution_count": 7,
     "metadata": {},
     "output_type": "execute_result"
    }
   ],
   "source": [
    "# double check answer\n",
    "series.median()"
   ]
  },
  {
   "cell_type": "markdown",
   "metadata": {
    "id": "jJjaCEOHtGVb"
   },
   "source": [
    "Ex. 3. The **variance** is a descriptive statistic that measures how much a typical value in a data set differs from the average value. It is calculated as follows:\n",
    "- Calculate the average value.\n",
    "- For each value in the data set, calculate the square of the difference between the value and the average value. For example, if a value in the data set is 1.5 and the average value is 3.0, then calculate\n",
    "\n",
    "$$\n",
    "(1.5 - 3.0)^2 = 2.25.\n",
    "$$\n",
    "\n",
    "- The variance is the average of the squares calculated in the previous step.\n",
    "\n",
    "**Calculate the variance of the sale prices.**"
   ]
  },
  {
   "cell_type": "markdown",
   "metadata": {
    "id": "vnvtZhd4ta_1"
   },
   "source": [
    "Please convert the completed notebook to a PDF file and submit it to the assignment section on Blackboard by **Wednesday, September 14th at 11:59pm**. "
   ]
  },
  {
   "cell_type": "code",
   "execution_count": 8,
   "metadata": {
    "id": "kqJBGU6CuzK3"
   },
   "outputs": [],
   "source": [
    "def variance(xlist):\n",
    "    summation = 0\n",
    "    mean = average(prices)\n",
    "    for price in prices: \n",
    "        summation += (price - mean) ** 2\n",
    "    return summation / (len(xlist) - 1)"
   ]
  },
  {
   "cell_type": "code",
   "execution_count": 9,
   "metadata": {},
   "outputs": [
    {
     "data": {
      "text/plain": [
       "180585.7409090909"
      ]
     },
     "execution_count": 9,
     "metadata": {},
     "output_type": "execute_result"
    }
   ],
   "source": [
    "variance(prices)"
   ]
  },
  {
   "cell_type": "code",
   "execution_count": 10,
   "metadata": {},
   "outputs": [
    {
     "data": {
      "text/plain": [
       "180585.7409090909"
      ]
     },
     "execution_count": 10,
     "metadata": {},
     "output_type": "execute_result"
    }
   ],
   "source": [
    "# double check answer\n",
    "series.var()"
   ]
  }
 ],
 "metadata": {
  "colab": {
   "authorship_tag": "ABX9TyOaapWbTlkVEGnqwPmzkI0i",
   "include_colab_link": true,
   "provenance": []
  },
  "kernelspec": {
   "display_name": "Python 3 (ipykernel)",
   "language": "python",
   "name": "python3"
  },
  "language_info": {
   "codemirror_mode": {
    "name": "ipython",
    "version": 3
   },
   "file_extension": ".py",
   "mimetype": "text/x-python",
   "name": "python",
   "nbconvert_exporter": "python",
   "pygments_lexer": "ipython3",
   "version": "3.10.6"
  }
 },
 "nbformat": 4,
 "nbformat_minor": 1
}
