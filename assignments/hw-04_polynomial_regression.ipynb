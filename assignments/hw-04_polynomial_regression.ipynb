{
 "cells": [
  {
   "cell_type": "markdown",
   "metadata": {
    "colab_type": "text",
    "id": "view-in-github"
   },
   "source": [
    "<a href=\"https://colab.research.google.com/github/ch00226855/CMP414765Fall2022/blob/main/Homework04_PolynomialRegression.ipynb\" target=\"_parent\"><img src=\"https://colab.research.google.com/assets/colab-badge.svg\" alt=\"Open In Colab\"/></a>"
   ]
  },
  {
   "cell_type": "markdown",
   "metadata": {
    "id": "5HCnwhZ1OABm"
   },
   "source": [
    "# Homework 4\n",
    "This homework assignment will build three polynomial models on the same dataset and compare their performance. You can use tools from `sklearn` to complete this task."
   ]
  },
  {
   "cell_type": "code",
   "execution_count": 1,
   "metadata": {
    "id": "qq3fSlX2M11C"
   },
   "outputs": [],
   "source": [
    "import numpy as np\n",
    "import pandas as pd\n",
    "import matplotlib as mpl\n",
    "import matplotlib.pyplot as plt\n",
    "from sklearn.metrics import mean_squared_error\n",
    "from sklearn.linear_model import LinearRegression\n",
    "from sklearn.model_selection import train_test_split\n",
    "from sklearn.preprocessing import PolynomialFeatures\n",
    "%matplotlib inline"
   ]
  },
  {
   "cell_type": "code",
   "execution_count": 2,
   "metadata": {},
   "outputs": [],
   "source": [
    "# seed so that the results are reproducible\n",
    "np.random.seed(12345)"
   ]
  },
  {
   "cell_type": "code",
   "execution_count": 3,
   "metadata": {},
   "outputs": [],
   "source": [
    "# set the print format on floating point numbers for numpy arrays and objects\n",
    "np.set_printoptions(formatter={'float': lambda x: \"{0:0.4f}\".format(x)})"
   ]
  },
  {
   "cell_type": "code",
   "execution_count": 4,
   "metadata": {},
   "outputs": [],
   "source": [
    "# dark theme for matplotlib figures\n",
    "plt.style.use([\"dark_background\"])"
   ]
  },
  {
   "cell_type": "code",
   "execution_count": 5,
   "metadata": {},
   "outputs": [],
   "source": [
    "# increase the scale of matplotlib figures\n",
    "mpl.rcParams['figure.dpi'] = mpl.rcParamsDefault['figure.dpi'] * 1.2"
   ]
  },
  {
   "cell_type": "markdown",
   "metadata": {},
   "source": [
    "Create the data set."
   ]
  },
  {
   "cell_type": "code",
   "execution_count": 6,
   "metadata": {
    "colab": {
     "base_uri": "https://localhost:8080/",
     "height": 282
    },
    "id": "BuvOOrXpNMNS",
    "outputId": "f53abaec-c43b-414e-8d67-2cd4b76eb334"
   },
   "outputs": [],
   "source": [
    "# generate a data set X and Y\n",
    "m = 100\n",
    "X = 6 * np.random.rand(m, 1) - 3\n",
    "Y = 4 * X ** 3 + 5 * X ** 2 + X + 2 + np.random.randn(m, 1) * 5"
   ]
  },
  {
   "cell_type": "code",
   "execution_count": 7,
   "metadata": {},
   "outputs": [
    {
     "data": {
      "text/plain": [
       "((100, 1), (100, 1))"
      ]
     },
     "execution_count": 7,
     "metadata": {},
     "output_type": "execute_result"
    }
   ],
   "source": [
    "# note the dimension\n",
    "X.shape, Y.shape"
   ]
  },
  {
   "cell_type": "code",
   "execution_count": 8,
   "metadata": {},
   "outputs": [],
   "source": [
    "# convert into one dimensional arrays for creating a data frame\n",
    "X = X.reshape(-1)\n",
    "Y = Y.reshape(-1)"
   ]
  },
  {
   "cell_type": "code",
   "execution_count": 9,
   "metadata": {},
   "outputs": [
    {
     "data": {
      "text/html": [
       "<div>\n",
       "<style scoped>\n",
       "    .dataframe tbody tr th:only-of-type {\n",
       "        vertical-align: middle;\n",
       "    }\n",
       "\n",
       "    .dataframe tbody tr th {\n",
       "        vertical-align: top;\n",
       "    }\n",
       "\n",
       "    .dataframe thead th {\n",
       "        text-align: right;\n",
       "    }\n",
       "</style>\n",
       "<table border=\"1\" class=\"dataframe\">\n",
       "  <thead>\n",
       "    <tr style=\"text-align: right;\">\n",
       "      <th></th>\n",
       "      <th>X</th>\n",
       "      <th>Y</th>\n",
       "    </tr>\n",
       "  </thead>\n",
       "  <tbody>\n",
       "    <tr>\n",
       "      <th>0</th>\n",
       "      <td>2.577697</td>\n",
       "      <td>103.199144</td>\n",
       "    </tr>\n",
       "    <tr>\n",
       "      <th>1</th>\n",
       "      <td>-1.101747</td>\n",
       "      <td>-2.987763</td>\n",
       "    </tr>\n",
       "    <tr>\n",
       "      <th>2</th>\n",
       "      <td>-1.896487</td>\n",
       "      <td>-12.828341</td>\n",
       "    </tr>\n",
       "    <tr>\n",
       "      <th>3</th>\n",
       "      <td>-1.772638</td>\n",
       "      <td>-5.227195</td>\n",
       "    </tr>\n",
       "  </tbody>\n",
       "</table>\n",
       "</div>"
      ],
      "text/plain": [
       "          X           Y\n",
       "0  2.577697  103.199144\n",
       "1 -1.101747   -2.987763\n",
       "2 -1.896487  -12.828341\n",
       "3 -1.772638   -5.227195"
      ]
     },
     "execution_count": 9,
     "metadata": {},
     "output_type": "execute_result"
    }
   ],
   "source": [
    "# create a data frame using the generated data\n",
    "data = pd.DataFrame({\"X\":X, \"Y\":Y})\n",
    "data[:4]"
   ]
  },
  {
   "cell_type": "code",
   "execution_count": 10,
   "metadata": {},
   "outputs": [
    {
     "data": {
      "text/plain": [
       "Text(0, 0.5, 'Y')"
      ]
     },
     "execution_count": 10,
     "metadata": {},
     "output_type": "execute_result"
    },
    {
     "data": {
      "image/png": "[encoded data removed]",
      "text/plain": [
       "<Figure size 720x480 with 1 Axes>"
      ]
     },
     "metadata": {},
     "output_type": "display_data"
    }
   ],
   "source": [
    "# create a labeled plot of the data\n",
    "plt.plot(X, Y, 'c.')\n",
    "plt.title(\"X vs Y\")\n",
    "plt.xlabel(\"X\")\n",
    "plt.ylabel(\"Y\")"
   ]
  },
  {
   "cell_type": "markdown",
   "metadata": {
    "id": "sExzZNA2NOOt"
   },
   "source": [
    "1. Use train_test_split to split the data into training set (80%) and test set (20%)."
   ]
  },
  {
   "cell_type": "code",
   "execution_count": 11,
   "metadata": {
    "id": "utPAJCUjNaId"
   },
   "outputs": [],
   "source": [
    "# split the data frame into two seperate data frames: one for training and one for testing\n",
    "data_train, data_test = train_test_split(data, test_size=0.2)"
   ]
  },
  {
   "cell_type": "code",
   "execution_count": 12,
   "metadata": {},
   "outputs": [],
   "source": [
    "# store the training and testing data in seperate variables\n",
    "x_train = data_train[[\"X\"]]\n",
    "y_train = data_train[\"Y\"]\n",
    "x_test = data_test[[\"X\"]]\n",
    "y_test = data_test[\"Y\"]"
   ]
  },
  {
   "cell_type": "markdown",
   "metadata": {
    "id": "KTj0wOzmNc9W"
   },
   "source": [
    "2. Build a degree 2 polynomial regression model with `X` as input variables and `Y` as output variable. Name the model `model_pr2`. Train the model on the training set and obtain the MSE on the test set."
   ]
  },
  {
   "cell_type": "markdown",
   "metadata": {},
   "source": [
    "Note: Since we are using `LinearRegression()` in conjunction with `PolynomialFeatures()`, there is no need to set `include_bias` to `True`, the former has this setting enabled by default."
   ]
  },
  {
   "cell_type": "code",
   "execution_count": 13,
   "metadata": {
    "id": "n3ms9vZ7Ndk1",
    "scrolled": true
   },
   "outputs": [],
   "source": [
    "# train the polynomial model using the training data for X and Y\n",
    "x_train_polyd2 = PolynomialFeatures(degree=2, include_bias=False).fit_transform(x_train)\n",
    "model_pr2 = LinearRegression().fit(x_train_polyd2, y_train)"
   ]
  },
  {
   "cell_type": "code",
   "execution_count": 14,
   "metadata": {},
   "outputs": [],
   "source": [
    "# get the predictions\n",
    "x_test_polyd2 = PolynomialFeatures(degree=2, include_bias=False).fit_transform(x_test)\n",
    "y_test_predictions = model_pr2.predict(x_test_polyd2)"
   ]
  },
  {
   "cell_type": "code",
   "execution_count": 15,
   "metadata": {},
   "outputs": [
    {
     "data": {
      "text/plain": [
       "356.6800159846879"
      ]
     },
     "execution_count": 15,
     "metadata": {},
     "output_type": "execute_result"
    }
   ],
   "source": [
    "# get the mean squared error\n",
    "mean_squared_error(y_test, y_test_predictions)"
   ]
  },
  {
   "cell_type": "markdown",
   "metadata": {
    "id": "pkG-uXoENd1T"
   },
   "source": [
    "3. Build a degree 3 polynomial regression model with `X` as input variables and `Y` as output variable. Name the model `model_pr3`. Train the model on the training set and  obtain the MSE on the test set."
   ]
  },
  {
   "cell_type": "code",
   "execution_count": 16,
   "metadata": {
    "id": "OuxT6hlgN2eE"
   },
   "outputs": [],
   "source": [
    "# train the polynomial model using the training data for X and Y\n",
    "x_train_polyd3 = PolynomialFeatures(degree=3, include_bias=False).fit_transform(x_train)\n",
    "model_pr3 = LinearRegression().fit(x_train_polyd3, y_train)"
   ]
  },
  {
   "cell_type": "code",
   "execution_count": 17,
   "metadata": {},
   "outputs": [],
   "source": [
    "# get the predictions\n",
    "x_test_polyd3 = PolynomialFeatures(degree=3, include_bias=False).fit_transform(x_test)\n",
    "y_test_predictions = model_pr3.predict(x_test_polyd3)"
   ]
  },
  {
   "cell_type": "code",
   "execution_count": 18,
   "metadata": {},
   "outputs": [
    {
     "data": {
      "text/plain": [
       "35.46436831789008"
      ]
     },
     "execution_count": 18,
     "metadata": {},
     "output_type": "execute_result"
    }
   ],
   "source": [
    "# get the mean squared error\n",
    "mean_squared_error(y_test, y_test_predictions)"
   ]
  },
  {
   "cell_type": "markdown",
   "metadata": {
    "id": "7TubsDvaN2uW"
   },
   "source": [
    "4. Build a degree 10 polynomial regression model with `X` as input variables and `Y` as output variable. Name the model `model_pr10`. Train the model on the training set and  obtain the MSE on the test set."
   ]
  },
  {
   "cell_type": "code",
   "execution_count": 19,
   "metadata": {
    "id": "YOfkQGlWN8nG"
   },
   "outputs": [],
   "source": [
    "# train the polynomial model using the training data for X and Y\n",
    "x_train_polyd10 = PolynomialFeatures(degree=10, include_bias=False).fit_transform(x_train)\n",
    "model_pr10 = LinearRegression().fit(x_train_polyd10, y_train)"
   ]
  },
  {
   "cell_type": "code",
   "execution_count": 20,
   "metadata": {},
   "outputs": [],
   "source": [
    "# get the predictions\n",
    "x_test_polyd10 = PolynomialFeatures(degree=10, include_bias=False).fit_transform(x_test)\n",
    "y_test_predictions = model_pr10.predict(x_test_polyd10)"
   ]
  },
  {
   "cell_type": "code",
   "execution_count": 21,
   "metadata": {},
   "outputs": [
    {
     "data": {
      "text/plain": [
       "41.42169060183612"
      ]
     },
     "execution_count": 21,
     "metadata": {},
     "output_type": "execute_result"
    }
   ],
   "source": [
    "# get the mean squared error\n",
    "mean_squared_error(y_test, y_test_predictions)"
   ]
  },
  {
   "cell_type": "markdown",
   "metadata": {},
   "source": [
    "4. Results\n",
    "\n",
    "The polynomial model of degree 3 the best mean squared error when compared to the other two models of degree 2 and degree 10."
   ]
  }
 ],
 "metadata": {
  "colab": {
   "include_colab_link": true,
   "name": "HW04_PolynomialRegression",
   "provenance": []
  },
  "kernelspec": {
   "display_name": "Python 3 (ipykernel)",
   "language": "python",
   "name": "python3"
  },
  "language_info": {
   "codemirror_mode": {
    "name": "ipython",
    "version": 3
   },
   "file_extension": ".py",
   "mimetype": "text/x-python",
   "name": "python",
   "nbconvert_exporter": "python",
   "pygments_lexer": "ipython3",
   "version": "3.10.6"
  }
 },
 "nbformat": 4,
 "nbformat_minor": 1
}
