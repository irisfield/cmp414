{
 "cells": [
  {
   "cell_type": "markdown",
   "metadata": {
    "id": "wWOqbZO9V36N"
   },
   "source": [
    "# Homework: FashionMNIST\n",
    "\n",
    "For this homework assignment, you are asked to build a neural network classifier on the FasionMNIST dataset. The FashionMNIST dataset has a lot in common with the MNIST dataset:\n",
    "- The dataset contains 70,000 grayscale images, split into training set (60,000 images) and test set (10,000 images).\n",
    "- The resolution of images is 28 by 28 pixels.\n",
    "- There are a total of 10 target labels.\n",
    "\n",
    "<img src=\"https://tensorflow.org/images/fashion-mnist-sprite.png\" width=\"600\">"
   ]
  },
  {
   "cell_type": "code",
   "execution_count": 1,
   "metadata": {
    "id": "ryKQmAcpV7Yh"
   },
   "outputs": [],
   "source": [
    "import numpy as np\n",
    "import pandas as pd\n",
    "import seaborn as sns\n",
    "import tensorflow as tf\n",
    "import matplotlib.pyplot as plt\n",
    "from sklearn.metrics import confusion_matrix"
   ]
  },
  {
   "cell_type": "code",
   "execution_count": 2,
   "metadata": {
    "colab": {
     "base_uri": "https://localhost:8080/"
    },
    "id": "SgyIrG73GSlI",
    "outputId": "d7d8c20a-29d2-46ec-e695-f0cfbdb6ccb7"
   },
   "outputs": [
    {
     "name": "stdout",
     "output_type": "stream",
     "text": [
      "Tensorflow Version:  2.9.2\n"
     ]
    }
   ],
   "source": [
    "print(\"Tensorflow Version: \", tf.__version__)"
   ]
  },
  {
   "cell_type": "code",
   "execution_count": 3,
   "metadata": {
    "id": "d-jCbCTfOLLZ"
   },
   "outputs": [],
   "source": [
    "# make numpy values readable\n",
    "np.set_printoptions(precision = 3, suppress = True)"
   ]
  },
  {
   "cell_type": "code",
   "execution_count": 4,
   "metadata": {
    "id": "z2YkOEyRV7ax"
   },
   "outputs": [],
   "source": [
    "# import the dataset\n",
    "(train_images, train_labels), (test_images, test_labels) = tf.keras.datasets.fashion_mnist.load_data() "
   ]
  },
  {
   "cell_type": "code",
   "execution_count": 5,
   "metadata": {
    "id": "CSm_u-O6V7dh"
   },
   "outputs": [],
   "source": [
    "# list of class names\n",
    "class_names = [\"T-shirt/top\", \"Trouser\", \"Pullover\", \"Dress\", \"Coat\",\n",
    "               \"Sandal\", \"Shirt\", \"Sneaker\", \"Bag\", \"Ankle boot\"]"
   ]
  },
  {
   "cell_type": "markdown",
   "metadata": {
    "id": "1oO38lwbV7f9"
   },
   "source": [
    "Please complete the following tasks:\n",
    "1. Scale the values to [0, 1] by dividing every value by 255.0.\n",
    "2. Use `plt.imshow()` to display the first image from the training set.\n",
    "3. Build a neural network with three layers:\n",
    "    - The first layer is a flatten layer of size 28 * 28.\n",
    "    - The second layer is a dense layer with 128 nodes, with ReLU as activation function.\n",
    "    - The last layer is a dense layer with 10 nodes with softmax activation.\n",
    "4. Compile the model, using `adam` as optimizer and `tf.keras.losses.SparseCategoricalCrossentropy()` as loss function. Use `accuracy` as performance metrics.\n",
    "5. Train the model using `train_images` and `train_labels` for 10 epochs.\n",
    "6. Evaluate the accuracy on the test set.\n",
    "7. Compute the confusion matrix over test set. Which type of prediction mistake occurs most frequently?"
   ]
  },
  {
   "cell_type": "markdown",
   "metadata": {
    "id": "U6JVuC-BRUC9"
   },
   "source": [
    "---"
   ]
  },
  {
   "cell_type": "markdown",
   "metadata": {
    "id": "_eRHbJpiLoem"
   },
   "source": [
    "### Convert and display\n",
    "\n",
    "Scale the numerical values for the images in the `train` and `test` sets to be between zero and one, and then display the first image from the `train` set."
   ]
  },
  {
   "cell_type": "code",
   "execution_count": 6,
   "metadata": {
    "colab": {
     "base_uri": "https://localhost:8080/"
    },
    "id": "ciwwVAvONbzY",
    "outputId": "ff5e5cc8-9341-4284-afa4-4ce4db2e27df"
   },
   "outputs": [
    {
     "data": {
      "text/plain": [
       "(28, 28)"
      ]
     },
     "execution_count": 6,
     "metadata": {},
     "output_type": "execute_result"
    }
   ],
   "source": [
    "# display the dimension of one of the images\n",
    "train_images[0].shape"
   ]
  },
  {
   "cell_type": "code",
   "execution_count": 7,
   "metadata": {
    "colab": {
     "base_uri": "https://localhost:8080/"
    },
    "id": "NGAfn9ZKV7io",
    "outputId": "6eb251d7-e656-4b93-eb92-e2e8d9131874"
   },
   "outputs": [
    {
     "data": {
      "text/plain": [
       "array([[  2,   0,   0,   0,  66, 200, 222, 237, 239, 242, 246, 243, 244,\n",
       "        221, 220, 193, 191, 179, 182, 182, 181, 176, 166, 168,  99,  58,\n",
       "          0,   0]], dtype=uint8)"
      ]
     },
     "execution_count": 7,
     "metadata": {},
     "output_type": "execute_result"
    }
   ],
   "source": [
    "# show some of the numerical values for the first image\n",
    "train_images[0][24:26:30]"
   ]
  },
  {
   "cell_type": "code",
   "execution_count": 8,
   "metadata": {
    "colab": {
     "base_uri": "https://localhost:8080/",
     "height": 282
    },
    "id": "IzlCf2xTP3_h",
    "outputId": "ff264333-3306-4d65-fe2c-f76f14595911"
   },
   "outputs": [
    {
     "data": {
      "text/plain": [
       "<matplotlib.image.AxesImage at 0x7f559339fcd0>"
      ]
     },
     "execution_count": 8,
     "metadata": {},
     "output_type": "execute_result"
    },
    {
     "data": {
      "image/png": "[encoded data removed]",
      "text/plain": [
       "<Figure size 432x288 with 1 Axes>"
      ]
     },
     "metadata": {
      "needs_background": "light"
     },
     "output_type": "display_data"
    }
   ],
   "source": [
    "# display the first image\n",
    "plt.imshow(train_images[0], cmap = \"Greys\")"
   ]
  },
  {
   "cell_type": "code",
   "execution_count": 9,
   "metadata": {
    "id": "qlS_F0NLI_0b"
   },
   "outputs": [],
   "source": [
    "# scale the numerical values for all the images to be between zero and one\n",
    "train_images, test_images = train_images / 255.0, test_images / 255.0"
   ]
  },
  {
   "cell_type": "code",
   "execution_count": 10,
   "metadata": {
    "colab": {
     "base_uri": "https://localhost:8080/"
    },
    "id": "9DKuhMmKMV4L",
    "outputId": "be47c558-6ce3-454c-f728-2c53148cf36e"
   },
   "outputs": [
    {
     "data": {
      "text/plain": [
       "array([[0.008, 0.   , 0.   , 0.   , 0.259, 0.784, 0.871, 0.929, 0.937,\n",
       "        0.949, 0.965, 0.953, 0.957, 0.867, 0.863, 0.757, 0.749, 0.702,\n",
       "        0.714, 0.714, 0.71 , 0.69 , 0.651, 0.659, 0.388, 0.227, 0.   ,\n",
       "        0.   ]])"
      ]
     },
     "execution_count": 10,
     "metadata": {},
     "output_type": "execute_result"
    }
   ],
   "source": [
    "# show the numerical values for the first image again\n",
    "train_images[0][24:26:30]"
   ]
  },
  {
   "cell_type": "code",
   "execution_count": 11,
   "metadata": {
    "colab": {
     "base_uri": "https://localhost:8080/",
     "height": 282
    },
    "id": "IlHxV99XMXZX",
    "outputId": "4b01bba1-6e6d-4bd8-f884-276dee852142"
   },
   "outputs": [
    {
     "data": {
      "text/plain": [
       "<matplotlib.image.AxesImage at 0x7f5592f09f10>"
      ]
     },
     "execution_count": 11,
     "metadata": {},
     "output_type": "execute_result"
    },
    {
     "data": {
      "image/png": "[encoded data removed]",
      "text/plain": [
       "<Figure size 432x288 with 1 Axes>"
      ]
     },
     "metadata": {
      "needs_background": "light"
     },
     "output_type": "display_data"
    }
   ],
   "source": [
    "# display the first image again\n",
    "plt.imshow(train_images[0], cmap = \"Greys\")"
   ]
  },
  {
   "cell_type": "markdown",
   "metadata": {
    "id": "rLZzLYqzRFvP"
   },
   "source": [
    "**The scaling does not change the images, only the scale of their numerical values.**"
   ]
  },
  {
   "cell_type": "markdown",
   "metadata": {
    "id": "d2n528jLRX2Z"
   },
   "source": [
    "---"
   ]
  },
  {
   "cell_type": "markdown",
   "metadata": {
    "id": "8_ubcz25TrSx"
   },
   "source": [
    "### Neural network with three layers\n",
    "\n",
    "Build a neural network with three layers:\n",
    "\n",
    "- The first layer is a flatten layer of size 28 * 28.\n",
    "- The second layer is a dense layer with 128 nodes, with ReLU as activation function.\n",
    "- The last layer is a dense layer with 10 nodes with softmax activation."
   ]
  },
  {
   "cell_type": "code",
   "execution_count": 12,
   "metadata": {
    "id": "ywOXAxk3T1Vq"
   },
   "outputs": [],
   "source": [
    "# build a neural network model by stacking layers\n",
    "nn_model = tf.keras.models.Sequential([\n",
    "    tf.keras.layers.Flatten(input_shape = (28, 28)), # flattens a 28 by 28 matrix into a 1D array with 784 values\n",
    "    tf.keras.layers.Dense(128, activation = \"relu\"),\n",
    "    tf.keras.layers.Dense(10, activation = \"softmax\")                                   \n",
    "])"
   ]
  },
  {
   "cell_type": "markdown",
   "metadata": {
    "id": "zSCVWjl8VcqT"
   },
   "source": [
    "---"
   ]
  },
  {
   "cell_type": "markdown",
   "metadata": {
    "id": "0o0Yoj1sWEqH"
   },
   "source": [
    "### Configuration\n",
    "\n",
    "Configure (\"compile\") the model using `adam` as the optimizer, `tf.keras.losses.SparseCategoricalCrossentropy()` as the loss function, and `accuracy` as performance metrics."
   ]
  },
  {
   "cell_type": "code",
   "execution_count": 13,
   "metadata": {
    "id": "OGuUe4UlVelL"
   },
   "outputs": [],
   "source": [
    "# configure the neural network model\n",
    "nn_model.compile(optimizer = \"adam\", loss = tf.keras.losses.SparseCategoricalCrossentropy(), metrics = [\"accuracy\"])"
   ]
  },
  {
   "cell_type": "markdown",
   "metadata": {
    "id": "HfvPERc1Vpqi"
   },
   "source": [
    "---"
   ]
  },
  {
   "cell_type": "code",
   "execution_count": 14,
   "metadata": {
    "colab": {
     "base_uri": "https://localhost:8080/"
    },
    "id": "7pXXcjZKk32m",
    "outputId": "f63f9258-0f5b-49e8-bbed-8ad65e74f72f"
   },
   "outputs": [
    {
     "name": "stdout",
     "output_type": "stream",
     "text": [
      "Model: \"sequential\"\n",
      "_________________________________________________________________\n",
      " Layer (type)                Output Shape              Param #   \n",
      "=================================================================\n",
      " flatten (Flatten)           (None, 784)               0         \n",
      "                                                                 \n",
      " dense (Dense)               (None, 128)               100480    \n",
      "                                                                 \n",
      " dense_1 (Dense)             (None, 10)                1290      \n",
      "                                                                 \n",
      "=================================================================\n",
      "Total params: 101,770\n",
      "Trainable params: 101,770\n",
      "Non-trainable params: 0\n",
      "_________________________________________________________________\n"
     ]
    }
   ],
   "source": [
    "# display the number of parameters\n",
    "nn_model.summary()"
   ]
  },
  {
   "cell_type": "markdown",
   "metadata": {
    "id": "amx4CDG8lnKU"
   },
   "source": [
    "The math behind the number of parameters.\n",
    "\n",
    "- `l` is the length of the 1D array (or the flattened matrix)\n",
    "- `w` is the number of weight parameters\n",
    "- `b` is the bias (or the number of nodes)\n",
    "\n",
    "$w = l * b$\n",
    "\n",
    "$total = w + b$"
   ]
  },
  {
   "cell_type": "code",
   "execution_count": 15,
   "metadata": {
    "colab": {
     "base_uri": "https://localhost:8080/"
    },
    "id": "Ty8Pk0PTlH5W",
    "outputId": "f5f89c11-23d0-4e9b-b0b7-c1a806d82980"
   },
   "outputs": [
    {
     "name": "stdout",
     "output_type": "stream",
     "text": [
      "Number of bias parameters: 128\n",
      "Number of weight parameters: 100352\n",
      "Total parameters: 100480\n"
     ]
    }
   ],
   "source": [
    "# compute the number of parameters for the first dense layer\n",
    "print(\"Number of bias parameters:\", 128)\n",
    "print(\"Number of weight parameters:\", 784 * 128)\n",
    "print(\"Total parameters:\", 784 * 128 + 128)"
   ]
  },
  {
   "cell_type": "code",
   "execution_count": 16,
   "metadata": {
    "colab": {
     "base_uri": "https://localhost:8080/"
    },
    "id": "YIK_qHNalfjn",
    "outputId": "93803f8d-a356-4078-9c0f-b59f184db9e1"
   },
   "outputs": [
    {
     "name": "stdout",
     "output_type": "stream",
     "text": [
      "Number of bias parameters: 10\n",
      "Number of weight parameters: 1280\n",
      "Total parameters: 1290\n"
     ]
    }
   ],
   "source": [
    "# compute the number of parameters for the second dense layer\n",
    "print(\"Number of bias parameters:\", 10)\n",
    "print(\"Number of weight parameters:\", 128 * 10)\n",
    "print(\"Total parameters:\", 128 * 10 + 10)"
   ]
  },
  {
   "cell_type": "markdown",
   "metadata": {
    "id": "FCjTPKfjWMDP"
   },
   "source": [
    "### Training\n",
    "\n",
    "Train the model using `train_images` and `train_labels` for 10 epochs."
   ]
  },
  {
   "cell_type": "code",
   "execution_count": 17,
   "metadata": {
    "colab": {
     "base_uri": "https://localhost:8080/"
    },
    "id": "tB-Yzq1XV3Gc",
    "outputId": "207d8ff2-c965-45d5-ef38-3011b0dea576"
   },
   "outputs": [
    {
     "name": "stdout",
     "output_type": "stream",
     "text": [
      "Epoch 1/10\n",
      "1875/1875 [==============================] - 7s 4ms/step - loss: 0.4976 - accuracy: 0.8248\n",
      "Epoch 2/10\n",
      "1875/1875 [==============================] - 5s 3ms/step - loss: 0.3752 - accuracy: 0.8655\n",
      "Epoch 3/10\n",
      "1875/1875 [==============================] - 3s 2ms/step - loss: 0.3375 - accuracy: 0.8769\n",
      "Epoch 4/10\n",
      "1875/1875 [==============================] - 3s 2ms/step - loss: 0.3147 - accuracy: 0.8844\n",
      "Epoch 5/10\n",
      "1875/1875 [==============================] - 3s 2ms/step - loss: 0.2965 - accuracy: 0.8901\n",
      "Epoch 6/10\n",
      "1875/1875 [==============================] - 3s 2ms/step - loss: 0.2819 - accuracy: 0.8951\n",
      "Epoch 7/10\n",
      "1875/1875 [==============================] - 3s 2ms/step - loss: 0.2717 - accuracy: 0.8988\n",
      "Epoch 8/10\n",
      "1875/1875 [==============================] - 3s 2ms/step - loss: 0.2586 - accuracy: 0.9039\n",
      "Epoch 9/10\n",
      "1875/1875 [==============================] - 3s 2ms/step - loss: 0.2485 - accuracy: 0.9065\n",
      "Epoch 10/10\n",
      "1875/1875 [==============================] - 3s 2ms/step - loss: 0.2394 - accuracy: 0.9114\n"
     ]
    }
   ],
   "source": [
    "# train the model to minimize the loss\n",
    "history = nn_model.fit(train_images, train_labels, epochs = 10)"
   ]
  },
  {
   "cell_type": "markdown",
   "metadata": {
    "id": "BQts5y2bVqYE"
   },
   "source": [
    "---"
   ]
  },
  {
   "cell_type": "code",
   "execution_count": 18,
   "metadata": {
    "colab": {
     "base_uri": "https://localhost:8080/"
    },
    "id": "H1w6_6hSs_Si",
    "outputId": "cdffb8a9-2d4d-4de2-8f50-c805bf2777e7"
   },
   "outputs": [
    {
     "data": {
      "text/plain": [
       "{'verbose': 1, 'epochs': 10, 'steps': 1875}"
      ]
     },
     "execution_count": 18,
     "metadata": {},
     "output_type": "execute_result"
    }
   ],
   "source": [
    "# display the training parameters\n",
    "history.params"
   ]
  },
  {
   "cell_type": "code",
   "execution_count": 19,
   "metadata": {
    "colab": {
     "base_uri": "https://localhost:8080/",
     "height": 363
    },
    "id": "6Qyx6Vm0tJKl",
    "outputId": "5247bc61-1f4d-4681-c153-96ae4f38861f"
   },
   "outputs": [
    {
     "data": {
      "text/html": [
       "\n",
       "  <div id=\"df-843d425d-689a-4991-92cf-0dc0df3b6199\">\n",
       "    <div class=\"colab-df-container\">\n",
       "      <div>\n",
       "<style scoped>\n",
       "    .dataframe tbody tr th:only-of-type {\n",
       "        vertical-align: middle;\n",
       "    }\n",
       "\n",
       "    .dataframe tbody tr th {\n",
       "        vertical-align: top;\n",
       "    }\n",
       "\n",
       "    .dataframe thead th {\n",
       "        text-align: right;\n",
       "    }\n",
       "</style>\n",
       "<table border=\"1\" class=\"dataframe\">\n",
       "  <thead>\n",
       "    <tr style=\"text-align: right;\">\n",
       "      <th></th>\n",
       "      <th>loss</th>\n",
       "      <th>accuracy</th>\n",
       "    </tr>\n",
       "  </thead>\n",
       "  <tbody>\n",
       "    <tr>\n",
       "      <th>0</th>\n",
       "      <td>0.497630</td>\n",
       "      <td>0.824817</td>\n",
       "    </tr>\n",
       "    <tr>\n",
       "      <th>1</th>\n",
       "      <td>0.375192</td>\n",
       "      <td>0.865517</td>\n",
       "    </tr>\n",
       "    <tr>\n",
       "      <th>2</th>\n",
       "      <td>0.337532</td>\n",
       "      <td>0.876850</td>\n",
       "    </tr>\n",
       "    <tr>\n",
       "      <th>3</th>\n",
       "      <td>0.314738</td>\n",
       "      <td>0.884350</td>\n",
       "    </tr>\n",
       "    <tr>\n",
       "      <th>4</th>\n",
       "      <td>0.296458</td>\n",
       "      <td>0.890067</td>\n",
       "    </tr>\n",
       "    <tr>\n",
       "      <th>5</th>\n",
       "      <td>0.281862</td>\n",
       "      <td>0.895083</td>\n",
       "    </tr>\n",
       "    <tr>\n",
       "      <th>6</th>\n",
       "      <td>0.271741</td>\n",
       "      <td>0.898833</td>\n",
       "    </tr>\n",
       "    <tr>\n",
       "      <th>7</th>\n",
       "      <td>0.258606</td>\n",
       "      <td>0.903933</td>\n",
       "    </tr>\n",
       "    <tr>\n",
       "      <th>8</th>\n",
       "      <td>0.248530</td>\n",
       "      <td>0.906533</td>\n",
       "    </tr>\n",
       "    <tr>\n",
       "      <th>9</th>\n",
       "      <td>0.239414</td>\n",
       "      <td>0.911433</td>\n",
       "    </tr>\n",
       "  </tbody>\n",
       "</table>\n",
       "</div>\n",
       "      <button class=\"colab-df-convert\" onclick=\"convertToInteractive('df-843d425d-689a-4991-92cf-0dc0df3b6199')\"\n",
       "              title=\"Convert this dataframe to an interactive table.\"\n",
       "              style=\"display:none;\">\n",
       "        \n",
       "  <svg xmlns=\"http://www.w3.org/2000/svg\" height=\"24px\"viewBox=\"0 0 24 24\"\n",
       "       width=\"24px\">\n",
       "    <path d=\"M0 0h24v24H0V0z\" fill=\"none\"/>\n",
       "    <path d=\"M18.56 5.44l.94 2.06.94-2.06 2.06-.94-2.06-.94-.94-2.06-.94 2.06-2.06.94zm-11 1L8.5 8.5l.94-2.06 2.06-.94-2.06-.94L8.5 2.5l-.94 2.06-2.06.94zm10 10l.94 2.06.94-2.06 2.06-.94-2.06-.94-.94-2.06-.94 2.06-2.06.94z\"/><path d=\"M17.41 7.96l-1.37-1.37c-.4-.4-.92-.59-1.43-.59-.52 0-1.04.2-1.43.59L10.3 9.45l-7.72 7.72c-.78.78-.78 2.05 0 2.83L4 21.41c.39.39.9.59 1.41.59.51 0 1.02-.2 1.41-.59l7.78-7.78 2.81-2.81c.8-.78.8-2.07 0-2.86zM5.41 20L4 18.59l7.72-7.72 1.47 1.35L5.41 20z\"/>\n",
       "  </svg>\n",
       "      </button>\n",
       "      \n",
       "  <style>\n",
       "    .colab-df-container {\n",
       "      display:flex;\n",
       "      flex-wrap:wrap;\n",
       "      gap: 12px;\n",
       "    }\n",
       "\n",
       "    .colab-df-convert {\n",
       "      background-color: #E8F0FE;\n",
       "      border: none;\n",
       "      border-radius: 50%;\n",
       "      cursor: pointer;\n",
       "      display: none;\n",
       "      fill: #1967D2;\n",
       "      height: 32px;\n",
       "      padding: 0 0 0 0;\n",
       "      width: 32px;\n",
       "    }\n",
       "\n",
       "    .colab-df-convert:hover {\n",
       "      background-color: #E2EBFA;\n",
       "      box-shadow: 0px 1px 2px rgba(60, 64, 67, 0.3), 0px 1px 3px 1px rgba(60, 64, 67, 0.15);\n",
       "      fill: #174EA6;\n",
       "    }\n",
       "\n",
       "    [theme=dark] .colab-df-convert {\n",
       "      background-color: #3B4455;\n",
       "      fill: #D2E3FC;\n",
       "    }\n",
       "\n",
       "    [theme=dark] .colab-df-convert:hover {\n",
       "      background-color: #434B5C;\n",
       "      box-shadow: 0px 1px 3px 1px rgba(0, 0, 0, 0.15);\n",
       "      filter: drop-shadow(0px 1px 2px rgba(0, 0, 0, 0.3));\n",
       "      fill: #FFFFFF;\n",
       "    }\n",
       "  </style>\n",
       "\n",
       "      <script>\n",
       "        const buttonEl =\n",
       "          document.querySelector('#df-843d425d-689a-4991-92cf-0dc0df3b6199 button.colab-df-convert');\n",
       "        buttonEl.style.display =\n",
       "          google.colab.kernel.accessAllowed ? 'block' : 'none';\n",
       "\n",
       "        async function convertToInteractive(key) {\n",
       "          const element = document.querySelector('#df-843d425d-689a-4991-92cf-0dc0df3b6199');\n",
       "          const dataTable =\n",
       "            await google.colab.kernel.invokeFunction('convertToInteractive',\n",
       "                                                     [key], {});\n",
       "          if (!dataTable) return;\n",
       "\n",
       "          const docLinkHtml = 'Like what you see? Visit the ' +\n",
       "            '<a target=\"_blank\" href=https://colab.research.google.com/notebooks/data_table.ipynb>data table notebook</a>'\n",
       "            + ' to learn more about interactive tables.';\n",
       "          element.innerHTML = '';\n",
       "          dataTable['output_type'] = 'display_data';\n",
       "          await google.colab.output.renderOutput(dataTable, element);\n",
       "          const docLink = document.createElement('div');\n",
       "          docLink.innerHTML = docLinkHtml;\n",
       "          element.appendChild(docLink);\n",
       "        }\n",
       "      </script>\n",
       "    </div>\n",
       "  </div>\n",
       "  "
      ],
      "text/plain": [
       "       loss  accuracy\n",
       "0  0.497630  0.824817\n",
       "1  0.375192  0.865517\n",
       "2  0.337532  0.876850\n",
       "3  0.314738  0.884350\n",
       "4  0.296458  0.890067\n",
       "5  0.281862  0.895083\n",
       "6  0.271741  0.898833\n",
       "7  0.258606  0.903933\n",
       "8  0.248530  0.906533\n",
       "9  0.239414  0.911433"
      ]
     },
     "execution_count": 19,
     "metadata": {},
     "output_type": "execute_result"
    }
   ],
   "source": [
    "# display the loss and accuracy metric\n",
    "pd.DataFrame(history.history)"
   ]
  },
  {
   "cell_type": "markdown",
   "metadata": {
    "id": "HEJQYooRuf5d"
   },
   "source": [
    "**The `loss` and `accuracy` should be inversely proportional. That is to say, the `loss` should be getting smaller as the `accuracy` grows.**"
   ]
  },
  {
   "cell_type": "markdown",
   "metadata": {
    "id": "XVUPzF0RWSzz"
   },
   "source": [
    "### 6. Evaluation\n",
    "\n",
    "Since the `loss` and `accuracy` shown above are for the training data Evaluate the accuracy of the model on the test set. "
   ]
  },
  {
   "cell_type": "code",
   "execution_count": 20,
   "metadata": {
    "colab": {
     "base_uri": "https://localhost:8080/"
    },
    "id": "qBOO-nYEV32B",
    "outputId": "68423b31-85c2-4e73-b736-21f5b2750153"
   },
   "outputs": [
    {
     "name": "stdout",
     "output_type": "stream",
     "text": [
      "313/313 [==============================] - 1s 1ms/step - loss: 0.3430 - accuracy: 0.8814\n"
     ]
    },
    {
     "data": {
      "text/plain": [
       "[0.3430449068546295, 0.8813999891281128]"
      ]
     },
     "execution_count": 20,
     "metadata": {},
     "output_type": "execute_result"
    }
   ],
   "source": [
    "# evaluate the model on the test images\n",
    "nn_model.evaluate(test_images, test_labels)"
   ]
  },
  {
   "cell_type": "markdown",
   "metadata": {
    "id": "1mFDO3VRxirB"
   },
   "source": [
    "**The accuracy of the model on the test set is somewhat lower.**"
   ]
  },
  {
   "cell_type": "code",
   "execution_count": 21,
   "metadata": {
    "colab": {
     "base_uri": "https://localhost:8080/"
    },
    "id": "f-pxOfIkpS2v",
    "outputId": "e6f74901-d37d-44fa-ebcd-c81b56e1c480"
   },
   "outputs": [
    {
     "name": "stdout",
     "output_type": "stream",
     "text": [
      "0 T-shirt/top\n",
      "1 Trouser\n",
      "2 Pullover\n",
      "3 Dress\n",
      "4 Coat\n",
      "5 Sandal\n",
      "6 Shirt\n",
      "7 Sneaker\n",
      "8 Bag\n",
      "9 Ankle boot\n"
     ]
    }
   ],
   "source": [
    "# display the corresponding class name for each class number\n",
    "for i in range(len(class_names)):\n",
    "  print(f\"{i} {class_names[i]}\")"
   ]
  },
  {
   "cell_type": "code",
   "execution_count": 22,
   "metadata": {
    "colab": {
     "base_uri": "https://localhost:8080/"
    },
    "id": "SGM8QI48xx2Q",
    "outputId": "37425268-1862-4ee3-800d-fbcb7b61d60f"
   },
   "outputs": [
    {
     "name": "stdout",
     "output_type": "stream",
     "text": [
      "313/313 [==============================] - 0s 1ms/step\n"
     ]
    }
   ],
   "source": [
    "# get the predictions on the test set\n",
    "predictions = nn_model.predict(test_images)"
   ]
  },
  {
   "cell_type": "code",
   "execution_count": 23,
   "metadata": {
    "colab": {
     "base_uri": "https://localhost:8080/"
    },
    "id": "cu-IG002yKab",
    "outputId": "ba0274c7-a905-4d32-ce29-ab509f099de4"
   },
   "outputs": [
    {
     "data": {
      "text/plain": [
       "array([0.   , 0.   , 0.   , 0.   , 0.   , 0.001, 0.   , 0.037, 0.   ,\n",
       "       0.962], dtype=float32)"
      ]
     },
     "execution_count": 23,
     "metadata": {},
     "output_type": "execute_result"
    }
   ],
   "source": [
    "# display the first prediction\n",
    "predictions[0]"
   ]
  },
  {
   "cell_type": "markdown",
   "metadata": {
    "id": "54FfyZjMynm4"
   },
   "source": [
    "**The model predicted the first image in the `test_images` dataset to be class 9. Using the table above as reference, class 9 corresponds to ankle boots. Display the first image to check if it is an ankle boot.**\n"
   ]
  },
  {
   "cell_type": "code",
   "execution_count": 24,
   "metadata": {
    "colab": {
     "base_uri": "https://localhost:8080/",
     "height": 282
    },
    "id": "eEBcnWUyx8Df",
    "outputId": "da29aaf2-463e-4673-f736-abcaef761a30"
   },
   "outputs": [
    {
     "data": {
      "text/plain": [
       "<matplotlib.image.AxesImage at 0x7f558e9ab8d0>"
      ]
     },
     "execution_count": 24,
     "metadata": {},
     "output_type": "execute_result"
    },
    {
     "data": {
      "image/png": "[encoded data removed]",
      "text/plain": [
       "<Figure size 432x288 with 1 Axes>"
      ]
     },
     "metadata": {
      "needs_background": "light"
     },
     "output_type": "display_data"
    }
   ],
   "source": [
    "# display the first image in the test set\n",
    "plt.imshow(test_images[0], cmap = \"Greys\")"
   ]
  },
  {
   "cell_type": "markdown",
   "metadata": {
    "id": "4dDcj7jUVqys"
   },
   "source": [
    "---"
   ]
  },
  {
   "cell_type": "markdown",
   "metadata": {
    "id": "Am8cSTDBWVo1"
   },
   "source": [
    "### Confusion matrix\n",
    "\n",
    "Compute the confusion matrix for the test set and determine which type of prediction mistake occurs the most frequently.\n",
    "\n",
    "The `np.argmax` function returns the indices of the maximum values along an axis.\n",
    "\n",
    "- `axis = 0` finds the largest value in each column\n",
    "- `axis = 1` finds the largest value in each row"
   ]
  },
  {
   "cell_type": "markdown",
   "metadata": {
    "id": "bHF9T4iV9V6t"
   },
   "source": [
    "\n",
    "For future reference, this is the link to a confusion matrix visualization function with performance matrics: https://github.com/DTrimarchi10/confusion_matrix"
   ]
  },
  {
   "cell_type": "code",
   "execution_count": 25,
   "metadata": {
    "id": "D2doA7UPV54C"
   },
   "outputs": [],
   "source": [
    "# get indices of the probability distributions to class predictions\n",
    "classes = np.argmax(predictions, axis = 1)"
   ]
  },
  {
   "cell_type": "code",
   "execution_count": 26,
   "metadata": {
    "colab": {
     "base_uri": "https://localhost:8080/"
    },
    "id": "UbtbC0jbz3Dv",
    "outputId": "87916238-e869-4975-9e29-d15996d3cc63"
   },
   "outputs": [
    {
     "data": {
      "text/plain": [
       "array([9, 2, 1, 1, 6, 1, 4, 6, 5, 7])"
      ]
     },
     "execution_count": 26,
     "metadata": {},
     "output_type": "execute_result"
    }
   ],
   "source": [
    "# display the first ten classes\n",
    "classes[:10]"
   ]
  },
  {
   "cell_type": "code",
   "execution_count": 27,
   "metadata": {
    "id": "tSiuwrC5z36T"
   },
   "outputs": [],
   "source": [
    "# compute the confusion matrix\n",
    "cm = confusion_matrix(test_labels, classes)"
   ]
  },
  {
   "cell_type": "code",
   "execution_count": 28,
   "metadata": {
    "colab": {
     "base_uri": "https://localhost:8080/",
     "height": 459
    },
    "id": "V8tmXriT4HFf",
    "outputId": "298f6c17-a27e-4d98-8965-8c9bbab5741b"
   },
   "outputs": [
    {
     "data": {
      "text/plain": [
       "Text(0.5, 42.0, 'Predicted Label')"
      ]
     },
     "execution_count": 28,
     "metadata": {},
     "output_type": "execute_result"
    },
    {
     "data": {
      "image/png": "[encoded data removed]",
      "text/plain": [
       "<Figure size 720x504 with 2 Axes>"
      ]
     },
     "metadata": {
      "needs_background": "light"
     },
     "output_type": "display_data"
    }
   ],
   "source": [
    "# visualize the confusion matrix because nice visuals are nice\n",
    "plt.figure(figsize = (10, 7))\n",
    "sns.heatmap(cm, annot = True, fmt = \"\", cmap = \"Blues\")\n",
    "plt.ylabel(\"True Label\")\n",
    "plt.xlabel(\"Predicted Label\")"
   ]
  },
  {
   "cell_type": "markdown",
   "metadata": {
    "id": "hcOuKUth1uCK"
   },
   "source": [
    "**The model mistakens class 6 (t-shirt) for class 0 (shirt) the most and class 4 (coat) for class 2 (pullover) the second most.**"
   ]
  }
 ],
 "metadata": {
  "colab": {
   "provenance": []
  },
  "kernelspec": {
   "display_name": "Python 3 (ipykernel)",
   "language": "python",
   "name": "python3"
  },
  "language_info": {
   "codemirror_mode": {
    "name": "ipython",
    "version": 3
   },
   "file_extension": ".py",
   "mimetype": "text/x-python",
   "name": "python",
   "nbconvert_exporter": "python",
   "pygments_lexer": "ipython3",
   "version": "3.10.8"
  }
 },
 "nbformat": 4,
 "nbformat_minor": 1
}
