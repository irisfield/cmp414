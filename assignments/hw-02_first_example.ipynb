{
 "cells": [
  {
   "cell_type": "markdown",
   "metadata": {
    "colab_type": "text",
    "id": "view-in-github"
   },
   "source": [
    "<a href=\"https://colab.research.google.com/github/ch00226855/CMP414765Fall2022/blob/main/Homework02_FirstMachineLearningExample.ipynb\" target=\"_parent\"><img src=\"https://colab.research.google.com/assets/colab-badge.svg\" alt=\"Open In Colab\"/></a>"
   ]
  },
  {
   "cell_type": "markdown",
   "metadata": {
    "id": "nIDEhy8l4glH"
   },
   "source": [
    "# Homework 2: First Machine Learning Example\n",
    "\n",
    "This homework assignment aims to build a linear model to describe the trend of height increase for the United Kingdom between 1900 and 1980.\n",
    "\n",
    "**Please complete this notebook and submit it to Blackboard as a PDF file before Wednesday, Sep. 21 at 11:59PM.**\n",
    "\n",
    "\n",
    "\n",
    "\n"
   ]
  },
  {
   "cell_type": "code",
   "execution_count": 1,
   "metadata": {
    "id": "tH0MvsonECdE"
   },
   "outputs": [],
   "source": [
    "import pandas as pd\n",
    "import matplotlib as mpl\n",
    "import matplotlib.pyplot as plt\n",
    "from sklearn.metrics import mean_squared_error\n",
    "from sklearn.linear_model import LinearRegression\n",
    "# automatically loads figures in the notebook\n",
    "%matplotlib inline"
   ]
  },
  {
   "cell_type": "code",
   "execution_count": 2,
   "metadata": {},
   "outputs": [],
   "source": [
    "# dark theme for matplotlib figures\n",
    "plt.style.use([\"dark_background\"])"
   ]
  },
  {
   "cell_type": "code",
   "execution_count": 3,
   "metadata": {},
   "outputs": [],
   "source": [
    "# increase the scale of matplotlib figures\n",
    "mpl.rcParams['figure.dpi'] = mpl.rcParamsDefault['figure.dpi'] * 1.2"
   ]
  },
  {
   "cell_type": "markdown",
   "metadata": {
    "id": "md-IiDAKEA35"
   },
   "source": [
    "1. Extract the average height values for **United Kingdom** between 1900 and 1980 from the dataset used in Week 2 notebook."
   ]
  },
  {
   "cell_type": "code",
   "execution_count": 4,
   "metadata": {},
   "outputs": [],
   "source": [
    "# load the data set\n",
    "df = pd.read_csv(\"data/average_height_of_men_by_country.csv\")"
   ]
  },
  {
   "cell_type": "code",
   "execution_count": 5,
   "metadata": {},
   "outputs": [
    {
     "data": {
      "text/html": [
       "<div>\n",
       "<style scoped>\n",
       "    .dataframe tbody tr th:only-of-type {\n",
       "        vertical-align: middle;\n",
       "    }\n",
       "\n",
       "    .dataframe tbody tr th {\n",
       "        vertical-align: top;\n",
       "    }\n",
       "\n",
       "    .dataframe thead th {\n",
       "        text-align: right;\n",
       "    }\n",
       "</style>\n",
       "<table border=\"1\" class=\"dataframe\">\n",
       "  <thead>\n",
       "    <tr style=\"text-align: right;\">\n",
       "      <th></th>\n",
       "      <th>Entity</th>\n",
       "      <th>Code</th>\n",
       "      <th>Year</th>\n",
       "      <th>Human Height (University of Tuebingen (2015))</th>\n",
       "    </tr>\n",
       "  </thead>\n",
       "  <tbody>\n",
       "    <tr>\n",
       "      <th>1247</th>\n",
       "      <td>Zimbabwe</td>\n",
       "      <td>ZWE</td>\n",
       "      <td>1960</td>\n",
       "      <td>171.1</td>\n",
       "    </tr>\n",
       "    <tr>\n",
       "      <th>1248</th>\n",
       "      <td>Zimbabwe</td>\n",
       "      <td>ZWE</td>\n",
       "      <td>1970</td>\n",
       "      <td>171.3</td>\n",
       "    </tr>\n",
       "    <tr>\n",
       "      <th>1249</th>\n",
       "      <td>Zimbabwe</td>\n",
       "      <td>ZWE</td>\n",
       "      <td>1980</td>\n",
       "      <td>171.0</td>\n",
       "    </tr>\n",
       "  </tbody>\n",
       "</table>\n",
       "</div>"
      ],
      "text/plain": [
       "        Entity Code  Year  Human Height (University of Tuebingen (2015))\n",
       "1247  Zimbabwe  ZWE  1960                                          171.1\n",
       "1248  Zimbabwe  ZWE  1970                                          171.3\n",
       "1249  Zimbabwe  ZWE  1980                                          171.0"
      ]
     },
     "execution_count": 5,
     "metadata": {},
     "output_type": "execute_result"
    }
   ],
   "source": [
    "# check the data frame\n",
    "df[-3:]"
   ]
  },
  {
   "cell_type": "code",
   "execution_count": 6,
   "metadata": {},
   "outputs": [
    {
     "data": {
      "text/plain": [
       "Entity                                            object\n",
       "Code                                              object\n",
       "Year                                               int64\n",
       "Human Height (University of Tuebingen (2015))    float64\n",
       "dtype: object"
      ]
     },
     "execution_count": 6,
     "metadata": {},
     "output_type": "execute_result"
    }
   ],
   "source": [
    "# check the data type of the columns\n",
    "df.dtypes"
   ]
  },
  {
   "cell_type": "code",
   "execution_count": 7,
   "metadata": {},
   "outputs": [],
   "source": [
    "# extract the average height values for the United Kingdom between 1900 and 1980\n",
    "uk_data = df[(df[\"Entity\"] == \"United Kingdom\") & (df[\"Year\"] >= 1900) & (df[\"Year\"] <= 1980)]"
   ]
  },
  {
   "cell_type": "code",
   "execution_count": 8,
   "metadata": {},
   "outputs": [],
   "source": [
    "# clean the data frame\n",
    "uk_data = uk_data.rename(columns = {\"Year\":\"year\", \"Human Height (University of Tuebingen (2015))\": \"height(cm)\"})\n",
    "uk_data.drop([\"Entity\", \"Code\"], axis=1, inplace=True)"
   ]
  },
  {
   "cell_type": "code",
   "execution_count": 9,
   "metadata": {
    "scrolled": true
   },
   "outputs": [
    {
     "data": {
      "text/html": [
       "<div>\n",
       "<style scoped>\n",
       "    .dataframe tbody tr th:only-of-type {\n",
       "        vertical-align: middle;\n",
       "    }\n",
       "\n",
       "    .dataframe tbody tr th {\n",
       "        vertical-align: top;\n",
       "    }\n",
       "\n",
       "    .dataframe thead th {\n",
       "        text-align: right;\n",
       "    }\n",
       "</style>\n",
       "<table border=\"1\" class=\"dataframe\">\n",
       "  <thead>\n",
       "    <tr style=\"text-align: right;\">\n",
       "      <th></th>\n",
       "      <th>year</th>\n",
       "      <th>height(cm)</th>\n",
       "    </tr>\n",
       "  </thead>\n",
       "  <tbody>\n",
       "    <tr>\n",
       "      <th>1185</th>\n",
       "      <td>1900</td>\n",
       "      <td>169.4</td>\n",
       "    </tr>\n",
       "    <tr>\n",
       "      <th>1186</th>\n",
       "      <td>1910</td>\n",
       "      <td>170.9</td>\n",
       "    </tr>\n",
       "    <tr>\n",
       "      <th>1187</th>\n",
       "      <td>1920</td>\n",
       "      <td>171.0</td>\n",
       "    </tr>\n",
       "    <tr>\n",
       "      <th>1188</th>\n",
       "      <td>1930</td>\n",
       "      <td>173.9</td>\n",
       "    </tr>\n",
       "    <tr>\n",
       "      <th>1189</th>\n",
       "      <td>1940</td>\n",
       "      <td>174.9</td>\n",
       "    </tr>\n",
       "    <tr>\n",
       "      <th>1190</th>\n",
       "      <td>1950</td>\n",
       "      <td>176.0</td>\n",
       "    </tr>\n",
       "    <tr>\n",
       "      <th>1191</th>\n",
       "      <td>1960</td>\n",
       "      <td>176.9</td>\n",
       "    </tr>\n",
       "    <tr>\n",
       "      <th>1192</th>\n",
       "      <td>1970</td>\n",
       "      <td>177.1</td>\n",
       "    </tr>\n",
       "    <tr>\n",
       "      <th>1193</th>\n",
       "      <td>1980</td>\n",
       "      <td>176.8</td>\n",
       "    </tr>\n",
       "  </tbody>\n",
       "</table>\n",
       "</div>"
      ],
      "text/plain": [
       "      year  height(cm)\n",
       "1185  1900       169.4\n",
       "1186  1910       170.9\n",
       "1187  1920       171.0\n",
       "1188  1930       173.9\n",
       "1189  1940       174.9\n",
       "1190  1950       176.0\n",
       "1191  1960       176.9\n",
       "1192  1970       177.1\n",
       "1193  1980       176.8"
      ]
     },
     "execution_count": 9,
     "metadata": {},
     "output_type": "execute_result"
    }
   ],
   "source": [
    "# display the clean data frame\n",
    "uk_data"
   ]
  },
  {
   "cell_type": "markdown",
   "metadata": {
    "id": "1PukrnGBEA6e"
   },
   "source": [
    "2. Find a linear model (height = m * year + b) that can describe the trend of height increase.\n",
    "    - The value of `m` should be close to the average height increase\n",
    "    - The value of `b` should make the line close to the data points.\n",
    "    - Use the `LinearRegression` class from `sklearn.linear_model` for this task"
   ]
  },
  {
   "cell_type": "markdown",
   "metadata": {},
   "source": [
    "Quirk of the `LinearRegression()` class: the `fit(training_data, target_values)` method expects:\n",
    "- `training_data` to be a 2D array (or a matrix)\n",
    "- `target_data` to be a 1D array"
   ]
  },
  {
   "cell_type": "code",
   "execution_count": 10,
   "metadata": {},
   "outputs": [],
   "source": [
    "linear_model = LinearRegression().fit(uk_data[[\"year\"]], uk_data[\"height(cm)\"])"
   ]
  },
  {
   "cell_type": "markdown",
   "metadata": {},
   "source": [
    "Get the predictions using the `training_data` as samples"
   ]
  },
  {
   "cell_type": "code",
   "execution_count": 11,
   "metadata": {},
   "outputs": [],
   "source": [
    "linear_model_height_predictions = linear_model.predict(uk_data[[\"year\"]])"
   ]
  },
  {
   "cell_type": "markdown",
   "metadata": {
    "id": "NWkpzWhbEA9D"
   },
   "source": [
    "3. Display the model line together with the data points."
   ]
  },
  {
   "cell_type": "code",
   "execution_count": 12,
   "metadata": {},
   "outputs": [
    {
     "data": {
      "text/plain": [
       "Text(0, 0.5, 'Height (cm)')"
      ]
     },
     "execution_count": 12,
     "metadata": {},
     "output_type": "execute_result"
    },
    {
     "data": {
      "image/png": "[encoded data removed]",
      "text/plain": [
       "<Figure size 768x576 with 1 Axes>"
      ]
     },
     "metadata": {},
     "output_type": "display_data"
    }
   ],
   "source": [
    "plt.plot(uk_data[\"year\"], uk_data[\"height(cm)\"], \"g.\")\n",
    "plt.plot(uk_data[\"year\"], linear_model_height_predictions)\n",
    "plt.title(\"Year vs Height\")\n",
    "plt.xlabel(\"Year\")\n",
    "plt.ylabel(\"Height (cm)\")"
   ]
  },
  {
   "cell_type": "markdown",
   "metadata": {},
   "source": [
    "---"
   ]
  },
  {
   "cell_type": "markdown",
   "metadata": {},
   "source": [
    "Reproduce the same results as above but step by step."
   ]
  },
  {
   "cell_type": "code",
   "execution_count": 13,
   "metadata": {},
   "outputs": [
    {
     "name": "stdout",
     "output_type": "stream",
     "text": [
      "m = 0.103\n",
      "b = -26.690\n"
     ]
    }
   ],
   "source": [
    "m = linear_model.coef_[0]\n",
    "b = linear_model.intercept_\n",
    "print(f\"m = {m:0.3f}\\nb = {b:0.3f}\")"
   ]
  },
  {
   "cell_type": "code",
   "execution_count": 14,
   "metadata": {},
   "outputs": [
    {
     "data": {
      "text/plain": [
       "[169.96, 178.23999999999998]"
      ]
     },
     "execution_count": 14,
     "metadata": {},
     "output_type": "execute_result"
    }
   ],
   "source": [
    "# calculate two points on the line\n",
    "x_coordinates = [1900, 1980]\n",
    "y_coordinates = [m * year + b for year in x_coordinates]\n",
    "y_coordinates"
   ]
  },
  {
   "cell_type": "code",
   "execution_count": 15,
   "metadata": {},
   "outputs": [
    {
     "data": {
      "text/plain": [
       "Text(0, 0.5, 'Height (cm)')"
      ]
     },
     "execution_count": 15,
     "metadata": {},
     "output_type": "execute_result"
    },
    {
     "data": {
      "image/png": "[encoded data removed]",
      "text/plain": [
       "<Figure size 768x576 with 1 Axes>"
      ]
     },
     "metadata": {},
     "output_type": "display_data"
    }
   ],
   "source": [
    "plt.plot(uk_data[\"year\"], uk_data[\"height(cm)\"], \"g.\")\n",
    "plt.plot(x_coordinates, y_coordinates, \"r-\")\n",
    "plt.title(\"Year vs Height\")\n",
    "plt.xlabel(\"Year\")\n",
    "plt.ylabel(\"Height (cm)\")"
   ]
  },
  {
   "cell_type": "markdown",
   "metadata": {
    "id": "9lufl3XOEA_w"
   },
   "source": [
    "4. Compute the mean square error (MSE) of this model. "
   ]
  },
  {
   "cell_type": "code",
   "execution_count": 16,
   "metadata": {
    "id": "ww3Rwtoc4p9Q"
   },
   "outputs": [
    {
     "data": {
      "text/plain": [
       "0.6762777777777765"
      ]
     },
     "execution_count": 16,
     "metadata": {},
     "output_type": "execute_result"
    }
   ],
   "source": [
    "# compare the actual values against the predicted values\n",
    "mean_squared_error(uk_data[\"height(cm)\"], linear_model_height_predictions)"
   ]
  },
  {
   "cell_type": "markdown",
   "metadata": {},
   "source": [
    "---"
   ]
  },
  {
   "cell_type": "markdown",
   "metadata": {},
   "source": [
    "Reproduce the same results above but step by step."
   ]
  },
  {
   "cell_type": "code",
   "execution_count": 17,
   "metadata": {},
   "outputs": [],
   "source": [
    "uk_data = uk_data.set_index(\"year\")"
   ]
  },
  {
   "cell_type": "code",
   "execution_count": 18,
   "metadata": {},
   "outputs": [
    {
     "name": "stdout",
     "output_type": "stream",
     "text": [
      "1900     0.5600\n",
      "1910     0.0950\n",
      "1920     1.0300\n",
      "1930     -0.8350\n",
      "1940     -0.8000\n",
      "1950     -0.8650\n",
      "1960     -0.7300\n",
      "1970     0.1050\n",
      "1980     1.4400\n"
     ]
    }
   ],
   "source": [
    "# print the red model's error on every year\n",
    "msq = 0\n",
    "for year in uk_data.index:\n",
    "    error = m * year + b - uk_data.loc[year, \"height(cm)\"]\n",
    "    msq += abs(error) ** 2\n",
    "    print(\"{}     {:.4f}\".format(year, error))"
   ]
  },
  {
   "cell_type": "code",
   "execution_count": 19,
   "metadata": {},
   "outputs": [
    {
     "name": "stdout",
     "output_type": "stream",
     "text": [
      "mean square error: 0.6762777777777765\n"
     ]
    }
   ],
   "source": [
    "print(f\"mean square error: {msq / len(uk_data)}\")"
   ]
  }
 ],
 "metadata": {
  "colab": {
   "include_colab_link": true,
   "name": "HW_Week02_SimpleLinearModel",
   "provenance": []
  },
  "kernelspec": {
   "display_name": "Python 3 (ipykernel)",
   "language": "python",
   "name": "python3"
  },
  "language_info": {
   "codemirror_mode": {
    "name": "ipython",
    "version": 3
   },
   "file_extension": ".py",
   "mimetype": "text/x-python",
   "name": "python",
   "nbconvert_exporter": "python",
   "pygments_lexer": "ipython3",
   "version": "3.10.7"
  }
 },
 "nbformat": 4,
 "nbformat_minor": 1
}
